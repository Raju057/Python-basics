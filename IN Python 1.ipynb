{
 "cells": [
  {
   "cell_type": "code",
   "execution_count": 1,
   "id": "741966f2",
   "metadata": {},
   "outputs": [
    {
     "name": "stdout",
     "output_type": "stream",
     "text": [
      "The Zen of Python, by Tim Peters\n",
      "\n",
      "Beautiful is better than ugly.\n",
      "Explicit is better than implicit.\n",
      "Simple is better than complex.\n",
      "Complex is better than complicated.\n",
      "Flat is better than nested.\n",
      "Sparse is better than dense.\n",
      "Readability counts.\n",
      "Special cases aren't special enough to break the rules.\n",
      "Although practicality beats purity.\n",
      "Errors should never pass silently.\n",
      "Unless explicitly silenced.\n",
      "In the face of ambiguity, refuse the temptation to guess.\n",
      "There should be one-- and preferably only one --obvious way to do it.\n",
      "Although that way may not be obvious at first unless you're Dutch.\n",
      "Now is better than never.\n",
      "Although never is often better than *right* now.\n",
      "If the implementation is hard to explain, it's a bad idea.\n",
      "If the implementation is easy to explain, it may be a good idea.\n",
      "Namespaces are one honking great idea -- let's do more of those!\n"
     ]
    }
   ],
   "source": [
    "import this"
   ]
  },
  {
   "cell_type": "code",
   "execution_count": 4,
   "id": "aeee605f",
   "metadata": {},
   "outputs": [
    {
     "name": "stdout",
     "output_type": "stream",
     "text": [
      "my name is RAJU\n"
     ]
    }
   ],
   "source": [
    "print(\"my name is RAJU\") "
   ]
  },
  {
   "cell_type": "code",
   "execution_count": 6,
   "id": "583eca7e",
   "metadata": {},
   "outputs": [],
   "source": [
    "a=1+2"
   ]
  },
  {
   "cell_type": "code",
   "execution_count": 7,
   "id": "7372d325",
   "metadata": {},
   "outputs": [
    {
     "data": {
      "text/plain": [
       "3"
      ]
     },
     "execution_count": 7,
     "metadata": {},
     "output_type": "execute_result"
    }
   ],
   "source": [
    "a"
   ]
  },
  {
   "cell_type": "code",
   "execution_count": 8,
   "id": "b747546f",
   "metadata": {},
   "outputs": [
    {
     "data": {
      "text/plain": [
       "int"
      ]
     },
     "execution_count": 8,
     "metadata": {},
     "output_type": "execute_result"
    }
   ],
   "source": [
    "type(a)"
   ]
  },
  {
   "cell_type": "code",
   "execution_count": 9,
   "id": "a8cb0701",
   "metadata": {},
   "outputs": [],
   "source": [
    "b = \"Raju\""
   ]
  },
  {
   "cell_type": "code",
   "execution_count": 10,
   "id": "cef4f998",
   "metadata": {},
   "outputs": [
    {
     "data": {
      "text/plain": [
       "str"
      ]
     },
     "execution_count": 10,
     "metadata": {},
     "output_type": "execute_result"
    }
   ],
   "source": [
    "type(b)"
   ]
  },
  {
   "cell_type": "code",
   "execution_count": 11,
   "id": "846f9cd6",
   "metadata": {},
   "outputs": [],
   "source": [
    "c = 6+7j"
   ]
  },
  {
   "cell_type": "code",
   "execution_count": 12,
   "id": "5bbb0c74",
   "metadata": {},
   "outputs": [
    {
     "data": {
      "text/plain": [
       "complex"
      ]
     },
     "execution_count": 12,
     "metadata": {},
     "output_type": "execute_result"
    }
   ],
   "source": [
    "type(c)"
   ]
  },
  {
   "cell_type": "code",
   "execution_count": 13,
   "id": "439ca267",
   "metadata": {},
   "outputs": [],
   "source": [
    "a=123\n",
    "b='Raju'\n",
    "c=True"
   ]
  },
  {
   "cell_type": "code",
   "execution_count": 14,
   "id": "891489b5",
   "metadata": {},
   "outputs": [
    {
     "data": {
      "text/plain": [
       "123"
      ]
     },
     "execution_count": 14,
     "metadata": {},
     "output_type": "execute_result"
    }
   ],
   "source": [
    "a"
   ]
  },
  {
   "cell_type": "code",
   "execution_count": 15,
   "id": "b68b33ad",
   "metadata": {},
   "outputs": [],
   "source": [
    "a1=12"
   ]
  },
  {
   "cell_type": "code",
   "execution_count": 16,
   "id": "377cc6c0",
   "metadata": {},
   "outputs": [
    {
     "data": {
      "text/plain": [
       "135"
      ]
     },
     "execution_count": 16,
     "metadata": {},
     "output_type": "execute_result"
    }
   ],
   "source": [
    "a+a1"
   ]
  },
  {
   "cell_type": "code",
   "execution_count": 17,
   "id": "a453bb50",
   "metadata": {},
   "outputs": [],
   "source": [
    "a,b,c,d = 234,'Raju',7+5J,True"
   ]
  },
  {
   "cell_type": "code",
   "execution_count": 19,
   "id": "711f20df",
   "metadata": {},
   "outputs": [
    {
     "data": {
      "text/plain": [
       "234"
      ]
     },
     "execution_count": 19,
     "metadata": {},
     "output_type": "execute_result"
    }
   ],
   "source": [
    "a"
   ]
  },
  {
   "cell_type": "code",
   "execution_count": 20,
   "id": "c7d5197f",
   "metadata": {},
   "outputs": [
    {
     "data": {
      "text/plain": [
       "'Raju'"
      ]
     },
     "execution_count": 20,
     "metadata": {},
     "output_type": "execute_result"
    }
   ],
   "source": [
    "b"
   ]
  },
  {
   "cell_type": "code",
   "execution_count": 21,
   "id": "30a6aa1b",
   "metadata": {},
   "outputs": [],
   "source": [
    "a = 4+5j"
   ]
  },
  {
   "cell_type": "code",
   "execution_count": 22,
   "id": "95f02ada",
   "metadata": {},
   "outputs": [
    {
     "data": {
      "text/plain": [
       "(4+5j)"
      ]
     },
     "execution_count": 22,
     "metadata": {},
     "output_type": "execute_result"
    }
   ],
   "source": [
    "a"
   ]
  },
  {
   "cell_type": "code",
   "execution_count": 23,
   "id": "d28353fc",
   "metadata": {},
   "outputs": [
    {
     "data": {
      "text/plain": [
       "complex"
      ]
     },
     "execution_count": 23,
     "metadata": {},
     "output_type": "execute_result"
    }
   ],
   "source": [
    "type(a)"
   ]
  },
  {
   "cell_type": "code",
   "execution_count": 24,
   "id": "c73071b6",
   "metadata": {},
   "outputs": [
    {
     "data": {
      "text/plain": [
       "5.0"
      ]
     },
     "execution_count": 24,
     "metadata": {},
     "output_type": "execute_result"
    }
   ],
   "source": [
    "a.imag"
   ]
  },
  {
   "cell_type": "code",
   "execution_count": 25,
   "id": "6a0561f3",
   "metadata": {},
   "outputs": [
    {
     "data": {
      "text/plain": [
       "4.0"
      ]
     },
     "execution_count": 25,
     "metadata": {},
     "output_type": "execute_result"
    }
   ],
   "source": [
    "a.real"
   ]
  },
  {
   "cell_type": "code",
   "execution_count": 30,
   "id": "18843959",
   "metadata": {},
   "outputs": [],
   "source": [
    "a = \"Raju\""
   ]
  },
  {
   "cell_type": "code",
   "execution_count": 31,
   "id": "24c13579",
   "metadata": {},
   "outputs": [
    {
     "data": {
      "text/plain": [
       "'Raju Niradi'"
      ]
     },
     "execution_count": 31,
     "metadata": {},
     "output_type": "execute_result"
    }
   ],
   "source": [
    "a+\" Niradi\""
   ]
  },
  {
   "cell_type": "code",
   "execution_count": 32,
   "id": "7387ff4f",
   "metadata": {},
   "outputs": [
    {
     "data": {
      "text/plain": [
       "2"
      ]
     },
     "execution_count": 32,
     "metadata": {},
     "output_type": "execute_result"
    }
   ],
   "source": [
    "True+True"
   ]
  },
  {
   "cell_type": "code",
   "execution_count": 33,
   "id": "b1dba2d7",
   "metadata": {},
   "outputs": [
    {
     "data": {
      "text/plain": [
       "2"
      ]
     },
     "execution_count": 33,
     "metadata": {},
     "output_type": "execute_result"
    }
   ],
   "source": [
    "1+True"
   ]
  },
  {
   "cell_type": "code",
   "execution_count": 40,
   "id": "01a5131b",
   "metadata": {},
   "outputs": [
    {
     "name": "stdout",
     "output_type": "stream",
     "text": [
      "123\n"
     ]
    }
   ],
   "source": [
    "a =input()"
   ]
  },
  {
   "cell_type": "code",
   "execution_count": 41,
   "id": "db32047c",
   "metadata": {},
   "outputs": [
    {
     "data": {
      "text/plain": [
       "'123'"
      ]
     },
     "execution_count": 41,
     "metadata": {},
     "output_type": "execute_result"
    }
   ],
   "source": [
    "a"
   ]
  },
  {
   "cell_type": "code",
   "execution_count": 42,
   "id": "a921982e",
   "metadata": {},
   "outputs": [],
   "source": [
    "b = 14"
   ]
  },
  {
   "cell_type": "code",
   "execution_count": 43,
   "id": "3991b1d9",
   "metadata": {},
   "outputs": [
    {
     "data": {
      "text/plain": [
       "14"
      ]
     },
     "execution_count": 43,
     "metadata": {},
     "output_type": "execute_result"
    }
   ],
   "source": [
    "b"
   ]
  },
  {
   "cell_type": "code",
   "execution_count": 44,
   "id": "fa608d7b",
   "metadata": {},
   "outputs": [
    {
     "data": {
      "text/plain": [
       "137"
      ]
     },
     "execution_count": 44,
     "metadata": {},
     "output_type": "execute_result"
    }
   ],
   "source": [
    "int(a)+b #converting type casting a('123') str to int"
   ]
  },
  {
   "cell_type": "code",
   "execution_count": 1,
   "id": "303938d5",
   "metadata": {},
   "outputs": [],
   "source": [
    "s = 'Raju'"
   ]
  },
  {
   "cell_type": "code",
   "execution_count": 3,
   "id": "8a81eeec",
   "metadata": {},
   "outputs": [
    {
     "data": {
      "text/plain": [
       "str"
      ]
     },
     "execution_count": 3,
     "metadata": {},
     "output_type": "execute_result"
    }
   ],
   "source": [
    "type(s)"
   ]
  },
  {
   "cell_type": "code",
   "execution_count": 4,
   "id": "55856350",
   "metadata": {},
   "outputs": [
    {
     "data": {
      "text/plain": [
       "'R'"
      ]
     },
     "execution_count": 4,
     "metadata": {},
     "output_type": "execute_result"
    }
   ],
   "source": [
    "s[0] #access string element index"
   ]
  },
  {
   "cell_type": "code",
   "execution_count": 5,
   "id": "10948418",
   "metadata": {},
   "outputs": [
    {
     "data": {
      "text/plain": [
       "'a'"
      ]
     },
     "execution_count": 5,
     "metadata": {},
     "output_type": "execute_result"
    }
   ],
   "source": [
    "s[1]"
   ]
  },
  {
   "cell_type": "code",
   "execution_count": 6,
   "id": "2df42ee5",
   "metadata": {},
   "outputs": [
    {
     "data": {
      "text/plain": [
       "'u'"
      ]
     },
     "execution_count": 6,
     "metadata": {},
     "output_type": "execute_result"
    }
   ],
   "source": [
    "s[-1]"
   ]
  },
  {
   "cell_type": "code",
   "execution_count": 9,
   "id": "a1c40284",
   "metadata": {},
   "outputs": [
    {
     "data": {
      "text/plain": [
       "'Ra'"
      ]
     },
     "execution_count": 9,
     "metadata": {},
     "output_type": "execute_result"
    }
   ],
   "source": [
    "s[0:2]"
   ]
  },
  {
   "cell_type": "code",
   "execution_count": 3,
   "id": "0b00334b",
   "metadata": {},
   "outputs": [],
   "source": [
    " a = \"Raju Niradi\""
   ]
  },
  {
   "cell_type": "code",
   "execution_count": 4,
   "id": "99969a77",
   "metadata": {},
   "outputs": [
    {
     "data": {
      "text/plain": [
       "'Raju Niradi'"
      ]
     },
     "execution_count": 4,
     "metadata": {},
     "output_type": "execute_result"
    }
   ],
   "source": [
    "a"
   ]
  },
  {
   "cell_type": "code",
   "execution_count": 5,
   "id": "e5552dd8",
   "metadata": {},
   "outputs": [
    {
     "data": {
      "text/plain": [
       "'Rj iai'"
      ]
     },
     "execution_count": 5,
     "metadata": {},
     "output_type": "execute_result"
    }
   ],
   "source": [
    "a[0:100:2] #Jump or step size"
   ]
  },
  {
   "cell_type": "code",
   "execution_count": 6,
   "id": "f6ff96cc",
   "metadata": {},
   "outputs": [
    {
     "data": {
      "text/plain": [
       "''"
      ]
     },
     "execution_count": 6,
     "metadata": {},
     "output_type": "execute_result"
    }
   ],
   "source": [
    "a[0:100:-1]"
   ]
  },
  {
   "cell_type": "code",
   "execution_count": 7,
   "id": "6f68e289",
   "metadata": {},
   "outputs": [
    {
     "data": {
      "text/plain": [
       "''"
      ]
     },
     "execution_count": 7,
     "metadata": {},
     "output_type": "execute_result"
    }
   ],
   "source": [
    "a[-1:-4] # Positive jump to get o/p giv -ve jump"
   ]
  },
  {
   "cell_type": "code",
   "execution_count": 8,
   "id": "33af5bae",
   "metadata": {},
   "outputs": [
    {
     "data": {
      "text/plain": [
       "'ia'"
      ]
     },
     "execution_count": 8,
     "metadata": {},
     "output_type": "execute_result"
    }
   ],
   "source": [
    "a[-1:-4:-2]"
   ]
  },
  {
   "cell_type": "code",
   "execution_count": 9,
   "id": "9d75dca7",
   "metadata": {},
   "outputs": [
    {
     "data": {
      "text/plain": [
       "'Raju Niradi'"
      ]
     },
     "execution_count": 9,
     "metadata": {},
     "output_type": "execute_result"
    }
   ],
   "source": [
    "a[::]"
   ]
  },
  {
   "cell_type": "code",
   "execution_count": 10,
   "id": "b02b98a9",
   "metadata": {},
   "outputs": [
    {
     "data": {
      "text/plain": [
       "'Raju '"
      ]
     },
     "execution_count": 10,
     "metadata": {},
     "output_type": "execute_result"
    }
   ],
   "source": [
    "a[:5]"
   ]
  },
  {
   "cell_type": "code",
   "execution_count": 11,
   "id": "22c8c928",
   "metadata": {},
   "outputs": [
    {
     "data": {
      "text/plain": [
       "'di'"
      ]
     },
     "execution_count": 11,
     "metadata": {},
     "output_type": "execute_result"
    }
   ],
   "source": [
    "a[-2:]#step size +ve i.e i is output"
   ]
  },
  {
   "cell_type": "code",
   "execution_count": 12,
   "id": "d1309227",
   "metadata": {},
   "outputs": [
    {
     "data": {
      "text/plain": [
       "'Raju Niradi'"
      ]
     },
     "execution_count": 12,
     "metadata": {},
     "output_type": "execute_result"
    }
   ],
   "source": [
    "a"
   ]
  },
  {
   "cell_type": "code",
   "execution_count": 13,
   "id": "b1717486",
   "metadata": {},
   "outputs": [
    {
     "data": {
      "text/plain": [
       "'idariN ujaR'"
      ]
     },
     "execution_count": 13,
     "metadata": {},
     "output_type": "execute_result"
    }
   ],
   "source": [
    "a[::-1] #reverse string moving -ve direction"
   ]
  },
  {
   "cell_type": "code",
   "execution_count": 14,
   "id": "aab9d70c",
   "metadata": {},
   "outputs": [
    {
     "data": {
      "text/plain": [
       "11"
      ]
     },
     "execution_count": 14,
     "metadata": {},
     "output_type": "execute_result"
    }
   ],
   "source": [
    "len(a)#length of string"
   ]
  },
  {
   "cell_type": "code",
   "execution_count": 15,
   "id": "82511764",
   "metadata": {},
   "outputs": [
    {
     "data": {
      "text/plain": [
       "1"
      ]
     },
     "execution_count": 15,
     "metadata": {},
     "output_type": "execute_result"
    }
   ],
   "source": [
    "a.find('a')"
   ]
  },
  {
   "cell_type": "code",
   "execution_count": 16,
   "id": "d5f77680",
   "metadata": {},
   "outputs": [
    {
     "data": {
      "text/plain": [
       "2"
      ]
     },
     "execution_count": 16,
     "metadata": {},
     "output_type": "execute_result"
    }
   ],
   "source": [
    "a.count('a')"
   ]
  },
  {
   "cell_type": "code",
   "execution_count": 17,
   "id": "ae9f81f4",
   "metadata": {},
   "outputs": [
    {
     "data": {
      "text/plain": [
       "['Raju', 'Niradi']"
      ]
     },
     "execution_count": 17,
     "metadata": {},
     "output_type": "execute_result"
    }
   ],
   "source": [
    "a.split()"
   ]
  },
  {
   "cell_type": "code",
   "execution_count": 19,
   "id": "6a6ed067",
   "metadata": {},
   "outputs": [
    {
     "data": {
      "text/plain": [
       "list"
      ]
     },
     "execution_count": 19,
     "metadata": {},
     "output_type": "execute_result"
    }
   ],
   "source": [
    "type(a.split())"
   ]
  },
  {
   "cell_type": "code",
   "execution_count": 22,
   "id": "87b24522",
   "metadata": {},
   "outputs": [],
   "source": [
    "l = a.split()"
   ]
  },
  {
   "cell_type": "code",
   "execution_count": 24,
   "id": "2ce5f48f",
   "metadata": {},
   "outputs": [
    {
     "data": {
      "text/plain": [
       "'Niradi'"
      ]
     },
     "execution_count": 24,
     "metadata": {},
     "output_type": "execute_result"
    }
   ],
   "source": [
    "l[1]"
   ]
  },
  {
   "cell_type": "code",
   "execution_count": 25,
   "id": "fab3898e",
   "metadata": {},
   "outputs": [
    {
     "data": {
      "text/plain": [
       "['R', 'ju Nir', 'di']"
      ]
     },
     "execution_count": 25,
     "metadata": {},
     "output_type": "execute_result"
    }
   ],
   "source": [
    "a.split('a')"
   ]
  },
  {
   "cell_type": "code",
   "execution_count": 26,
   "id": "a22dde59",
   "metadata": {},
   "outputs": [
    {
     "data": {
      "text/plain": [
       "'RAJU NIRADI'"
      ]
     },
     "execution_count": 26,
     "metadata": {},
     "output_type": "execute_result"
    }
   ],
   "source": [
    "a.upper()"
   ]
  },
  {
   "cell_type": "code",
   "execution_count": 27,
   "id": "e73616c3",
   "metadata": {},
   "outputs": [
    {
     "data": {
      "text/plain": [
       "'rAJU nIRADI'"
      ]
     },
     "execution_count": 27,
     "metadata": {},
     "output_type": "execute_result"
    }
   ],
   "source": [
    "a.swapcase()"
   ]
  },
  {
   "cell_type": "code",
   "execution_count": 28,
   "id": "7d47db23",
   "metadata": {},
   "outputs": [
    {
     "data": {
      "text/plain": [
       "'Raju Niradi'"
      ]
     },
     "execution_count": 28,
     "metadata": {},
     "output_type": "execute_result"
    }
   ],
   "source": [
    "a.title()"
   ]
  },
  {
   "cell_type": "code",
   "execution_count": 29,
   "id": "7bc8d9cf",
   "metadata": {},
   "outputs": [],
   "source": [
    "b = 'cow'\n",
    "c = 'milk'\n",
    " "
   ]
  },
  {
   "cell_type": "code",
   "execution_count": 34,
   "id": "605d4f50",
   "metadata": {},
   "outputs": [
    {
     "data": {
      "text/plain": [
       "'mcowicowlcowk'"
      ]
     },
     "execution_count": 34,
     "metadata": {},
     "output_type": "execute_result"
    }
   ],
   "source": [
    "b.join(c)"
   ]
  },
  {
   "cell_type": "code",
   "execution_count": 37,
   "id": "21cc4b5a",
   "metadata": {},
   "outputs": [
    {
     "data": {
      "text/plain": [
       "'a s d a d a'"
      ]
     },
     "execution_count": 37,
     "metadata": {},
     "output_type": "execute_result"
    }
   ],
   "source": [
    "' '.join('asdada')"
   ]
  },
  {
   "cell_type": "code",
   "execution_count": 38,
   "id": "574d36f1",
   "metadata": {},
   "outputs": [
    {
     "data": {
      "text/plain": [
       "'cow'"
      ]
     },
     "execution_count": 38,
     "metadata": {},
     "output_type": "execute_result"
    }
   ],
   "source": [
    "b"
   ]
  },
  {
   "cell_type": "code",
   "execution_count": 41,
   "id": "8c03bfdf",
   "metadata": {},
   "outputs": [],
   "source": [
    "b = \" cow \""
   ]
  },
  {
   "cell_type": "code",
   "execution_count": 42,
   "id": "1aaa21dd",
   "metadata": {},
   "outputs": [
    {
     "data": {
      "text/plain": [
       "'cow '"
      ]
     },
     "execution_count": 42,
     "metadata": {},
     "output_type": "execute_result"
    }
   ],
   "source": [
    "b.lstrip() # removed right side space"
   ]
  },
  {
   "cell_type": "code",
   "execution_count": 43,
   "id": "1d9a518e",
   "metadata": {},
   "outputs": [
    {
     "data": {
      "text/plain": [
       "' cow'"
      ]
     },
     "execution_count": 43,
     "metadata": {},
     "output_type": "execute_result"
    }
   ],
   "source": [
    "b.rstrip()"
   ]
  },
  {
   "cell_type": "code",
   "execution_count": 44,
   "id": "829db916",
   "metadata": {},
   "outputs": [
    {
     "data": {
      "text/plain": [
       "'cow'"
      ]
     },
     "execution_count": 44,
     "metadata": {},
     "output_type": "execute_result"
    }
   ],
   "source": [
    "b.strip()"
   ]
  },
  {
   "cell_type": "code",
   "execution_count": 1,
   "id": "53c8de61",
   "metadata": {},
   "outputs": [],
   "source": [
    "s = 'raju'"
   ]
  },
  {
   "cell_type": "code",
   "execution_count": 2,
   "id": "f93420bf",
   "metadata": {},
   "outputs": [
    {
     "data": {
      "text/plain": [
       "'Raju'"
      ]
     },
     "execution_count": 2,
     "metadata": {},
     "output_type": "execute_result"
    }
   ],
   "source": [
    "s.replace('r','R')"
   ]
  },
  {
   "cell_type": "code",
   "execution_count": 3,
   "id": "41a2fd0c",
   "metadata": {},
   "outputs": [
    {
     "data": {
      "text/plain": [
       "'RAJU'"
      ]
     },
     "execution_count": 3,
     "metadata": {},
     "output_type": "execute_result"
    }
   ],
   "source": [
    " s.upper()"
   ]
  },
  {
   "cell_type": "code",
   "execution_count": 4,
   "id": "309356f8",
   "metadata": {},
   "outputs": [
    {
     "data": {
      "text/plain": [
       "False"
      ]
     },
     "execution_count": 4,
     "metadata": {},
     "output_type": "execute_result"
    }
   ],
   "source": [
    "s.isupper()"
   ]
  },
  {
   "cell_type": "code",
   "execution_count": 5,
   "id": "2ef3e768",
   "metadata": {},
   "outputs": [
    {
     "data": {
      "text/plain": [
       "False"
      ]
     },
     "execution_count": 5,
     "metadata": {},
     "output_type": "execute_result"
    }
   ],
   "source": [
    "s.isdigit()"
   ]
  },
  {
   "cell_type": "code",
   "execution_count": 6,
   "id": "fb580a11",
   "metadata": {},
   "outputs": [
    {
     "data": {
      "text/plain": [
       "True"
      ]
     },
     "execution_count": 6,
     "metadata": {},
     "output_type": "execute_result"
    }
   ],
   "source": [
    "s.endswith('u')"
   ]
  },
  {
   "cell_type": "code",
   "execution_count": 7,
   "id": "7b2cff74",
   "metadata": {},
   "outputs": [
    {
     "data": {
      "text/plain": [
       "False"
      ]
     },
     "execution_count": 7,
     "metadata": {},
     "output_type": "execute_result"
    }
   ],
   "source": [
    "s.startswith('a')"
   ]
  },
  {
   "cell_type": "code",
   "execution_count": 9,
   "id": "4fc19898",
   "metadata": {},
   "outputs": [
    {
     "data": {
      "text/plain": [
       "False"
      ]
     },
     "execution_count": 9,
     "metadata": {},
     "output_type": "execute_result"
    }
   ],
   "source": [
    "s.istitle()"
   ]
  },
  {
   "cell_type": "code",
   "execution_count": 11,
   "id": "ad07b9b1",
   "metadata": {},
   "outputs": [
    {
     "data": {
      "text/plain": [
       "'raju'"
      ]
     },
     "execution_count": 11,
     "metadata": {},
     "output_type": "execute_result"
    }
   ],
   "source": [
    "s"
   ]
  },
  {
   "cell_type": "code",
   "execution_count": 12,
   "id": "8621efe0",
   "metadata": {},
   "outputs": [],
   "source": [
    "#list:list is collection hertogineus or homogineius data"
   ]
  },
  {
   "cell_type": "code",
   "execution_count": 21,
   "id": "98da938c",
   "metadata": {},
   "outputs": [],
   "source": [
    "l = [\"sudh\",\"kum\",356,True,35.3]"
   ]
  },
  {
   "cell_type": "code",
   "execution_count": 22,
   "id": "4301efbc",
   "metadata": {},
   "outputs": [
    {
     "data": {
      "text/plain": [
       "list"
      ]
     },
     "execution_count": 22,
     "metadata": {},
     "output_type": "execute_result"
    }
   ],
   "source": [
    "type(l)"
   ]
  },
  {
   "cell_type": "code",
   "execution_count": 23,
   "id": "afb8535b",
   "metadata": {},
   "outputs": [
    {
     "data": {
      "text/plain": [
       "'sudh'"
      ]
     },
     "execution_count": 23,
     "metadata": {},
     "output_type": "execute_result"
    }
   ],
   "source": [
    "l[0] #access list data "
   ]
  },
  {
   "cell_type": "code",
   "execution_count": 28,
   "id": "89856e3f",
   "metadata": {},
   "outputs": [
    {
     "data": {
      "text/plain": [
       "[35.3, True, 356, 'kum', 'sudh']"
      ]
     },
     "execution_count": 28,
     "metadata": {},
     "output_type": "execute_result"
    }
   ],
   "source": [
    "l [::-1]"
   ]
  },
  {
   "cell_type": "code",
   "execution_count": 31,
   "id": "1d966e1d",
   "metadata": {},
   "outputs": [
    {
     "data": {
      "text/plain": [
       "list"
      ]
     },
     "execution_count": 31,
     "metadata": {},
     "output_type": "execute_result"
    }
   ],
   "source": [
    "type(l)"
   ]
  },
  {
   "cell_type": "code",
   "execution_count": 32,
   "id": "c3df6458",
   "metadata": {},
   "outputs": [
    {
     "data": {
      "text/plain": [
       "int"
      ]
     },
     "execution_count": 32,
     "metadata": {},
     "output_type": "execute_result"
    }
   ],
   "source": [
    "type(l[2])"
   ]
  },
  {
   "cell_type": "code",
   "execution_count": 33,
   "id": "274a9867",
   "metadata": {},
   "outputs": [
    {
     "data": {
      "text/plain": [
       "'kum'"
      ]
     },
     "execution_count": 33,
     "metadata": {},
     "output_type": "execute_result"
    }
   ],
   "source": [
    "l[1]"
   ]
  },
  {
   "cell_type": "code",
   "execution_count": 34,
   "id": "3c7a9b44",
   "metadata": {},
   "outputs": [
    {
     "data": {
      "text/plain": [
       "'k'"
      ]
     },
     "execution_count": 34,
     "metadata": {},
     "output_type": "execute_result"
    }
   ],
   "source": [
    "l[1][0]"
   ]
  },
  {
   "cell_type": "code",
   "execution_count": 1,
   "id": "60d878c5",
   "metadata": {},
   "outputs": [],
   "source": [
    "l2 = ['123','Raju',35.4]\n",
    "l3 = ['rh','abc']"
   ]
  },
  {
   "cell_type": "code",
   "execution_count": 2,
   "id": "fd7c4225",
   "metadata": {},
   "outputs": [
    {
     "data": {
      "text/plain": [
       "['rh', 'abc', '123', 'Raju', 35.4]"
      ]
     },
     "execution_count": 2,
     "metadata": {},
     "output_type": "execute_result"
    }
   ],
   "source": [
    "l3+l2"
   ]
  },
  {
   "cell_type": "code",
   "execution_count": 3,
   "id": "190c3ceb",
   "metadata": {},
   "outputs": [
    {
     "data": {
      "text/plain": [
       "['123', 'Raju', 35.4, '123', 'Raju', 35.4]"
      ]
     },
     "execution_count": 3,
     "metadata": {},
     "output_type": "execute_result"
    }
   ],
   "source": [
    "l2*2"
   ]
  },
  {
   "cell_type": "code",
   "execution_count": 5,
   "id": "d5cb624c",
   "metadata": {},
   "outputs": [
    {
     "data": {
      "text/plain": [
       "['123', 'Raju', 35.4, 'xyz']"
      ]
     },
     "execution_count": 5,
     "metadata": {},
     "output_type": "execute_result"
    }
   ],
   "source": [
    "l2+ ['xyz']"
   ]
  },
  {
   "cell_type": "code",
   "execution_count": 6,
   "id": "e4b3d1c8",
   "metadata": {},
   "outputs": [
    {
     "data": {
      "text/plain": [
       "['123', 'Raju', 35.4]"
      ]
     },
     "execution_count": 6,
     "metadata": {},
     "output_type": "execute_result"
    }
   ],
   "source": [
    "l2"
   ]
  },
  {
   "cell_type": "code",
   "execution_count": 7,
   "id": "3836dcfe",
   "metadata": {},
   "outputs": [],
   "source": [
    "l2[0]='000' #list is mutable entity"
   ]
  },
  {
   "cell_type": "code",
   "execution_count": 8,
   "id": "54301a1d",
   "metadata": {},
   "outputs": [
    {
     "data": {
      "text/plain": [
       "['000', 'Raju', 35.4]"
      ]
     },
     "execution_count": 8,
     "metadata": {},
     "output_type": "execute_result"
    }
   ],
   "source": [
    "l2"
   ]
  },
  {
   "cell_type": "code",
   "execution_count": 9,
   "id": "a1eff60d",
   "metadata": {},
   "outputs": [
    {
     "data": {
      "text/plain": [
       "'000'"
      ]
     },
     "execution_count": 9,
     "metadata": {},
     "output_type": "execute_result"
    }
   ],
   "source": [
    "l2[0]"
   ]
  },
  {
   "cell_type": "code",
   "execution_count": null,
   "id": "a3ee7559",
   "metadata": {},
   "outputs": [],
   "source": [
    "l2[0]"
   ]
  },
  {
   "cell_type": "code",
   "execution_count": 14,
   "id": "68a84386",
   "metadata": {},
   "outputs": [
    {
     "data": {
      "text/plain": [
       "['000', 'Raju', 35.4]"
      ]
     },
     "execution_count": 14,
     "metadata": {},
     "output_type": "execute_result"
    }
   ],
   "source": [
    "l2"
   ]
  },
  {
   "cell_type": "code",
   "execution_count": 16,
   "id": "1e8dd59f",
   "metadata": {},
   "outputs": [
    {
     "data": {
      "text/plain": [
       "'1aju'"
      ]
     },
     "execution_count": 16,
     "metadata": {},
     "output_type": "execute_result"
    }
   ],
   "source": [
    "l2[1].replace('R','1')"
   ]
  },
  {
   "cell_type": "code",
   "execution_count": 17,
   "id": "ca3310ae",
   "metadata": {},
   "outputs": [
    {
     "data": {
      "text/plain": [
       "3"
      ]
     },
     "execution_count": 17,
     "metadata": {},
     "output_type": "execute_result"
    }
   ],
   "source": [
    "len(l2)"
   ]
  },
  {
   "cell_type": "code",
   "execution_count": 19,
   "id": "a2d292cd",
   "metadata": {},
   "outputs": [
    {
     "data": {
      "text/plain": [
       "True"
      ]
     },
     "execution_count": 19,
     "metadata": {},
     "output_type": "execute_result"
    }
   ],
   "source": [
    "35.4 in l2"
   ]
  },
  {
   "cell_type": "code",
   "execution_count": 23,
   "id": "c1bb58d6",
   "metadata": {},
   "outputs": [],
   "source": [
    "l2.append('Niradi')"
   ]
  },
  {
   "cell_type": "code",
   "execution_count": 24,
   "id": "0fbe6568",
   "metadata": {},
   "outputs": [
    {
     "data": {
      "text/plain": [
       "['000', 'Raju', 35.4, 'Niradi', 'Niradi', 'Niradi']"
      ]
     },
     "execution_count": 24,
     "metadata": {},
     "output_type": "execute_result"
    }
   ],
   "source": [
    "l2"
   ]
  },
  {
   "cell_type": "code",
   "execution_count": 25,
   "id": "adaea3c1",
   "metadata": {},
   "outputs": [
    {
     "data": {
      "text/plain": [
       "['000', 'Raju', 35.4, 'Niradi', 'Niradi', 'Niradi']"
      ]
     },
     "execution_count": 25,
     "metadata": {},
     "output_type": "execute_result"
    }
   ],
   "source": [
    "l2"
   ]
  },
  {
   "cell_type": "code",
   "execution_count": 27,
   "id": "33ba401a",
   "metadata": {},
   "outputs": [
    {
     "data": {
      "text/plain": [
       "35.4"
      ]
     },
     "execution_count": 27,
     "metadata": {},
     "output_type": "execute_result"
    }
   ],
   "source": [
    "l2.pop(2)"
   ]
  },
  {
   "cell_type": "code",
   "execution_count": 28,
   "id": "a150ae67",
   "metadata": {},
   "outputs": [
    {
     "data": {
      "text/plain": [
       "['000', 'Raju', 'Niradi', 'Niradi']"
      ]
     },
     "execution_count": 28,
     "metadata": {},
     "output_type": "execute_result"
    }
   ],
   "source": [
    "l2"
   ]
  },
  {
   "cell_type": "code",
   "execution_count": 31,
   "id": "1c6bb95e",
   "metadata": {},
   "outputs": [],
   "source": [
    "l2.append('xxx') #append default index -1"
   ]
  },
  {
   "cell_type": "code",
   "execution_count": 32,
   "id": "90227e2b",
   "metadata": {},
   "outputs": [
    {
     "data": {
      "text/plain": [
       "['000', 'Raju', 'Niradi', 'Niradi', 'xxx', 'xxx']"
      ]
     },
     "execution_count": 32,
     "metadata": {},
     "output_type": "execute_result"
    }
   ],
   "source": [
    "l2"
   ]
  },
  {
   "cell_type": "code",
   "execution_count": 33,
   "id": "552de47b",
   "metadata": {},
   "outputs": [],
   "source": [
    "l2.insert(2,'abc')#insert commnd used appending data with index"
   ]
  },
  {
   "cell_type": "code",
   "execution_count": 34,
   "id": "82a0fb3f",
   "metadata": {},
   "outputs": [
    {
     "data": {
      "text/plain": [
       "['000', 'Raju', 'abc', 'Niradi', 'Niradi', 'xxx', 'xxx']"
      ]
     },
     "execution_count": 34,
     "metadata": {},
     "output_type": "execute_result"
    }
   ],
   "source": [
    "l2"
   ]
  },
  {
   "cell_type": "code",
   "execution_count": null,
   "id": "d109bf6d",
   "metadata": {},
   "outputs": [],
   "source": [
    "#insert spcify index and data \n",
    "#pop removing data by default last index\n",
    "#append adding data by default last index"
   ]
  },
  {
   "cell_type": "code",
   "execution_count": 35,
   "id": "634ad7d4",
   "metadata": {},
   "outputs": [
    {
     "data": {
      "text/plain": [
       "['000', 'Raju', 'abc', 'Niradi', 'Niradi', 'xxx', 'xxx']"
      ]
     },
     "execution_count": 35,
     "metadata": {},
     "output_type": "execute_result"
    }
   ],
   "source": [
    "l2"
   ]
  },
  {
   "cell_type": "code",
   "execution_count": 37,
   "id": "643c27e4",
   "metadata": {},
   "outputs": [
    {
     "data": {
      "text/plain": [
       "'000'"
      ]
     },
     "execution_count": 37,
     "metadata": {},
     "output_type": "execute_result"
    }
   ],
   "source": [
    "l2.pop(0)"
   ]
  },
  {
   "cell_type": "code",
   "execution_count": 38,
   "id": "e9cbf923",
   "metadata": {},
   "outputs": [
    {
     "data": {
      "text/plain": [
       "['Raju', 'abc', 'Niradi', 'Niradi', 'xxx', 'xxx']"
      ]
     },
     "execution_count": 38,
     "metadata": {},
     "output_type": "execute_result"
    }
   ],
   "source": [
    "l2"
   ]
  },
  {
   "cell_type": "code",
   "execution_count": 39,
   "id": "fb6b4be5",
   "metadata": {},
   "outputs": [
    {
     "data": {
      "text/plain": [
       "['Raju', 'abc', 'Niradi', 'Niradi', 'xxx', 'xxx']"
      ]
     },
     "execution_count": 39,
     "metadata": {},
     "output_type": "execute_result"
    }
   ],
   "source": [
    "l2"
   ]
  },
  {
   "cell_type": "code",
   "execution_count": 40,
   "id": "c6d1f2a0",
   "metadata": {},
   "outputs": [
    {
     "data": {
      "text/plain": [
       "['xxx', 'xxx', 'Niradi', 'Niradi', 'abc', 'Raju']"
      ]
     },
     "execution_count": 40,
     "metadata": {},
     "output_type": "execute_result"
    }
   ],
   "source": [
    "l2[::-1]"
   ]
  },
  {
   "cell_type": "code",
   "execution_count": 41,
   "id": "7604dbfc",
   "metadata": {},
   "outputs": [],
   "source": [
    "l2.reverse()"
   ]
  },
  {
   "cell_type": "code",
   "execution_count": 42,
   "id": "b06b636f",
   "metadata": {},
   "outputs": [
    {
     "data": {
      "text/plain": [
       "['xxx', 'xxx', 'Niradi', 'Niradi', 'abc', 'Raju']"
      ]
     },
     "execution_count": 42,
     "metadata": {},
     "output_type": "execute_result"
    }
   ],
   "source": [
    "l2"
   ]
  },
  {
   "cell_type": "code",
   "execution_count": 43,
   "id": "84bc1fe1",
   "metadata": {},
   "outputs": [],
   "source": [
    "l2.append([1,2,3])"
   ]
  },
  {
   "cell_type": "code",
   "execution_count": 44,
   "id": "81332dd8",
   "metadata": {},
   "outputs": [
    {
     "data": {
      "text/plain": [
       "['xxx', 'xxx', 'Niradi', 'Niradi', 'abc', 'Raju', [1, 2, 3]]"
      ]
     },
     "execution_count": 44,
     "metadata": {},
     "output_type": "execute_result"
    }
   ],
   "source": [
    "l2"
   ]
  },
  {
   "cell_type": "code",
   "execution_count": 48,
   "id": "c609aa83",
   "metadata": {},
   "outputs": [],
   "source": [
    "l2.extend([12,'sd'])"
   ]
  },
  {
   "cell_type": "code",
   "execution_count": 47,
   "id": "7e95ca8c",
   "metadata": {},
   "outputs": [
    {
     "data": {
      "text/plain": [
       "['xxx', 'xxx', 'Niradi', 'Niradi', 'abc', 'Raju', [1, 2, 3], 12, 'sd']"
      ]
     },
     "execution_count": 47,
     "metadata": {},
     "output_type": "execute_result"
    }
   ],
   "source": [
    "l2"
   ]
  },
  {
   "cell_type": "markdown",
   "id": "faddc102",
   "metadata": {},
   "source": [
    "# Tuple:"
   ]
  },
  {
   "cell_type": "code",
   "execution_count": 55,
   "id": "5466cdb2",
   "metadata": {},
   "outputs": [],
   "source": [
    "t = (1,2,3,4,5)"
   ]
  },
  {
   "cell_type": "code",
   "execution_count": 56,
   "id": "facbd90e",
   "metadata": {},
   "outputs": [
    {
     "data": {
      "text/plain": [
       "tuple"
      ]
     },
     "execution_count": 56,
     "metadata": {},
     "output_type": "execute_result"
    }
   ],
   "source": [
    "type (t)"
   ]
  },
  {
   "cell_type": "code",
   "execution_count": 59,
   "id": "0bcd1f2d",
   "metadata": {},
   "outputs": [],
   "source": [
    "t1 =  ('Raju',12,True,125.2)"
   ]
  },
  {
   "cell_type": "code",
   "execution_count": 60,
   "id": "d2ec77ce",
   "metadata": {},
   "outputs": [
    {
     "data": {
      "text/plain": [
       "tuple"
      ]
     },
     "execution_count": 60,
     "metadata": {},
     "output_type": "execute_result"
    }
   ],
   "source": [
    "type (t1)"
   ]
  },
  {
   "cell_type": "code",
   "execution_count": 61,
   "id": "eaa18bb1",
   "metadata": {},
   "outputs": [],
   "source": [
    "t2 = ['Raju',12,True,125.2]"
   ]
  },
  {
   "cell_type": "code",
   "execution_count": 62,
   "id": "657ac576",
   "metadata": {},
   "outputs": [
    {
     "data": {
      "text/plain": [
       "list"
      ]
     },
     "execution_count": 62,
     "metadata": {},
     "output_type": "execute_result"
    }
   ],
   "source": [
    "type (t2)"
   ]
  },
  {
   "cell_type": "code",
   "execution_count": 64,
   "id": "dccbddb4",
   "metadata": {},
   "outputs": [
    {
     "data": {
      "text/plain": [
       "('Raju', 12)"
      ]
     },
     "execution_count": 64,
     "metadata": {},
     "output_type": "execute_result"
    }
   ],
   "source": [
    "t1[0:2]"
   ]
  },
  {
   "cell_type": "code",
   "execution_count": 66,
   "id": "97df29a0",
   "metadata": {},
   "outputs": [
    {
     "data": {
      "text/plain": [
       "['Raju', 12]"
      ]
     },
     "execution_count": 66,
     "metadata": {},
     "output_type": "execute_result"
    }
   ],
   "source": [
    "t2[0:2] #sliceing in tuple and list same"
   ]
  },
  {
   "cell_type": "code",
   "execution_count": 68,
   "id": "9ba1a0a0",
   "metadata": {},
   "outputs": [
    {
     "data": {
      "text/plain": [
       "['Raju', 12, True, 125.2]"
      ]
     },
     "execution_count": 68,
     "metadata": {},
     "output_type": "execute_result"
    }
   ],
   "source": [
    "t2"
   ]
  },
  {
   "cell_type": "code",
   "execution_count": 69,
   "id": "88acc345",
   "metadata": {},
   "outputs": [
    {
     "data": {
      "text/plain": [
       "['Raju', 125.2]"
      ]
     },
     "execution_count": 69,
     "metadata": {},
     "output_type": "execute_result"
    }
   ],
   "source": [
    "t2[0::3]"
   ]
  },
  {
   "cell_type": "code",
   "execution_count": 70,
   "id": "ca28da84",
   "metadata": {},
   "outputs": [
    {
     "data": {
      "text/plain": [
       "['Raju', 12, True, 125.2]"
      ]
     },
     "execution_count": 70,
     "metadata": {},
     "output_type": "execute_result"
    }
   ],
   "source": [
    "t2"
   ]
  },
  {
   "cell_type": "code",
   "execution_count": 71,
   "id": "397cf99e",
   "metadata": {},
   "outputs": [],
   "source": [
    "t2[0]= 15"
   ]
  },
  {
   "cell_type": "code",
   "execution_count": 72,
   "id": "875029ca",
   "metadata": {},
   "outputs": [
    {
     "data": {
      "text/plain": [
       "[15, 12, True, 125.2]"
      ]
     },
     "execution_count": 72,
     "metadata": {},
     "output_type": "execute_result"
    }
   ],
   "source": [
    "t2"
   ]
  },
  {
   "cell_type": "code",
   "execution_count": 74,
   "id": "1bc263b5",
   "metadata": {},
   "outputs": [
    {
     "data": {
      "text/plain": [
       "('Raju', 12, True, 125.2, 'Raju', 12, True, 125.2)"
      ]
     },
     "execution_count": 74,
     "metadata": {},
     "output_type": "execute_result"
    }
   ],
   "source": [
    "t1+t1 "
   ]
  },
  {
   "cell_type": "code",
   "execution_count": 77,
   "id": "39dc729b",
   "metadata": {},
   "outputs": [
    {
     "data": {
      "text/plain": [
       "('Raju', 12, True, 125.2, 'Raju', 12, True, 125.2)"
      ]
     },
     "execution_count": 77,
     "metadata": {},
     "output_type": "execute_result"
    }
   ],
   "source": [
    "t1*2"
   ]
  },
  {
   "cell_type": "code",
   "execution_count": 78,
   "id": "c60a12b8",
   "metadata": {},
   "outputs": [
    {
     "data": {
      "text/plain": [
       "1"
      ]
     },
     "execution_count": 78,
     "metadata": {},
     "output_type": "execute_result"
    }
   ],
   "source": [
    "t1.count('Raju')"
   ]
  },
  {
   "cell_type": "code",
   "execution_count": 81,
   "id": "c752f94e",
   "metadata": {},
   "outputs": [],
   "source": [
    "t = (12.2,3,(54,589,689),'Raju') #tuple inside"
   ]
  },
  {
   "cell_type": "code",
   "execution_count": 82,
   "id": "54b7e967",
   "metadata": {},
   "outputs": [
    {
     "data": {
      "text/plain": [
       "(12.2, 3, (54, 589, 689), 'Raju')"
      ]
     },
     "execution_count": 82,
     "metadata": {},
     "output_type": "execute_result"
    }
   ],
   "source": [
    "t"
   ]
  },
  {
   "cell_type": "code",
   "execution_count": 83,
   "id": "343b388a",
   "metadata": {},
   "outputs": [],
   "source": [
    "a = ([1,2,3],(54,895))"
   ]
  },
  {
   "cell_type": "code",
   "execution_count": 84,
   "id": "22558ee9",
   "metadata": {},
   "outputs": [
    {
     "data": {
      "text/plain": [
       "([1, 2, 3], (54, 895))"
      ]
     },
     "execution_count": 84,
     "metadata": {},
     "output_type": "execute_result"
    }
   ],
   "source": [
    "a"
   ]
  },
  {
   "cell_type": "code",
   "execution_count": 85,
   "id": "08dd1128",
   "metadata": {},
   "outputs": [
    {
     "data": {
      "text/plain": [
       "[1, 2, 3]"
      ]
     },
     "execution_count": 85,
     "metadata": {},
     "output_type": "execute_result"
    }
   ],
   "source": [
    "a[0]"
   ]
  },
  {
   "cell_type": "code",
   "execution_count": 86,
   "id": "e573abae",
   "metadata": {},
   "outputs": [
    {
     "data": {
      "text/plain": [
       "([1, 2, 3], (54, 895))"
      ]
     },
     "execution_count": 86,
     "metadata": {},
     "output_type": "execute_result"
    }
   ],
   "source": [
    "a[0:2]"
   ]
  },
  {
   "cell_type": "code",
   "execution_count": 88,
   "id": "bf80a6ce",
   "metadata": {},
   "outputs": [
    {
     "data": {
      "text/plain": [
       "2"
      ]
     },
     "execution_count": 88,
     "metadata": {},
     "output_type": "execute_result"
    }
   ],
   "source": [
    "a[0][1]"
   ]
  },
  {
   "cell_type": "code",
   "execution_count": 89,
   "id": "46e49278",
   "metadata": {},
   "outputs": [],
   "source": [
    "a[0][2] = 'Raju'"
   ]
  },
  {
   "cell_type": "code",
   "execution_count": 90,
   "id": "98e28930",
   "metadata": {},
   "outputs": [
    {
     "data": {
      "text/plain": [
       "([1, 2, 'Raju'], (54, 895))"
      ]
     },
     "execution_count": 90,
     "metadata": {},
     "output_type": "execute_result"
    }
   ],
   "source": [
    "a"
   ]
  },
  {
   "cell_type": "code",
   "execution_count": 91,
   "id": "6f8a953d",
   "metadata": {},
   "outputs": [
    {
     "data": {
      "text/plain": [
       "([1, 2, 'Raju'], (54, 895))"
      ]
     },
     "execution_count": 91,
     "metadata": {},
     "output_type": "execute_result"
    }
   ],
   "source": [
    "a"
   ]
  },
  {
   "cell_type": "code",
   "execution_count": 92,
   "id": "8aec100a",
   "metadata": {},
   "outputs": [
    {
     "data": {
      "text/plain": [
       "[[1, 2, 'Raju'], (54, 895)]"
      ]
     },
     "execution_count": 92,
     "metadata": {},
     "output_type": "execute_result"
    }
   ],
   "source": [
    "list(a)"
   ]
  },
  {
   "cell_type": "code",
   "execution_count": 93,
   "id": "9ae83dcd",
   "metadata": {},
   "outputs": [
    {
     "data": {
      "text/plain": [
       "([1, 2, 'Raju'], (54, 895))"
      ]
     },
     "execution_count": 93,
     "metadata": {},
     "output_type": "execute_result"
    }
   ],
   "source": [
    "a"
   ]
  },
  {
   "cell_type": "markdown",
   "id": "0f52e724",
   "metadata": {},
   "source": [
    "# Set :A set is an unordered and mutable collection of unique elements. Sets are written with curly brackets ({}). Remove dublicate elements"
   ]
  },
  {
   "cell_type": "code",
   "execution_count": 98,
   "id": "c475a302",
   "metadata": {},
   "outputs": [],
   "source": [
    "l = [1,1,1,2,3,4,5,5,5,6,7,8,9,9]"
   ]
  },
  {
   "cell_type": "code",
   "execution_count": 99,
   "id": "574f96d1",
   "metadata": {},
   "outputs": [
    {
     "data": {
      "text/plain": [
       "{1, 2, 3, 4, 5, 6, 7, 8, 9}"
      ]
     },
     "execution_count": 99,
     "metadata": {},
     "output_type": "execute_result"
    }
   ],
   "source": [
    "set(l)"
   ]
  },
  {
   "cell_type": "code",
   "execution_count": 102,
   "id": "5a7f25a8",
   "metadata": {},
   "outputs": [],
   "source": [
    "s1 = {1,'abc',2,3,5,6,5,5,6,6}"
   ]
  },
  {
   "cell_type": "code",
   "execution_count": 104,
   "id": "7a2adc2f",
   "metadata": {},
   "outputs": [
    {
     "data": {
      "text/plain": [
       "set"
      ]
     },
     "execution_count": 104,
     "metadata": {},
     "output_type": "execute_result"
    }
   ],
   "source": [
    "type(s1)"
   ]
  },
  {
   "cell_type": "code",
   "execution_count": 115,
   "id": "f0539fdf",
   "metadata": {},
   "outputs": [
    {
     "data": {
      "text/plain": [
       "{1, 2, 3, 5, 6, 'abc'}"
      ]
     },
     "execution_count": 115,
     "metadata": {},
     "output_type": "execute_result"
    }
   ],
   "source": [
    "s1"
   ]
  },
  {
   "cell_type": "code",
   "execution_count": 118,
   "id": "90dcb8aa",
   "metadata": {},
   "outputs": [
    {
     "data": {
      "text/plain": [
       "2"
      ]
     },
     "execution_count": 118,
     "metadata": {},
     "output_type": "execute_result"
    }
   ],
   "source": [
    "list(s1)[1]"
   ]
  },
  {
   "cell_type": "code",
   "execution_count": 117,
   "id": "8b2c83d9",
   "metadata": {},
   "outputs": [
    {
     "data": {
      "text/plain": [
       "{1, 2, 3, 5, 6, 'abc'}"
      ]
     },
     "execution_count": 117,
     "metadata": {},
     "output_type": "execute_result"
    }
   ],
   "source": [
    "s1"
   ]
  },
  {
   "cell_type": "code",
   "execution_count": null,
   "id": "48c3e553",
   "metadata": {},
   "outputs": [],
   "source": [
    "s1"
   ]
  },
  {
   "cell_type": "code",
   "execution_count": null,
   "id": "d97f1fcc",
   "metadata": {},
   "outputs": [],
   "source": []
  }
 ],
 "metadata": {
  "kernelspec": {
   "display_name": "Python 3 (ipykernel)",
   "language": "python",
   "name": "python3"
  },
  "language_info": {
   "codemirror_mode": {
    "name": "ipython",
    "version": 3
   },
   "file_extension": ".py",
   "mimetype": "text/x-python",
   "name": "python",
   "nbconvert_exporter": "python",
   "pygments_lexer": "ipython3",
   "version": "3.9.7"
  }
 },
 "nbformat": 4,
 "nbformat_minor": 5
}
