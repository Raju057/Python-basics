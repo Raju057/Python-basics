{
 "cells": [
  {
   "cell_type": "code",
   "execution_count": 1,
   "id": "741966f2",
   "metadata": {},
   "outputs": [
    {
     "name": "stdout",
     "output_type": "stream",
     "text": [
      "The Zen of Python, by Tim Peters\n",
      "\n",
      "Beautiful is better than ugly.\n",
      "Explicit is better than implicit.\n",
      "Simple is better than complex.\n",
      "Complex is better than complicated.\n",
      "Flat is better than nested.\n",
      "Sparse is better than dense.\n",
      "Readability counts.\n",
      "Special cases aren't special enough to break the rules.\n",
      "Although practicality beats purity.\n",
      "Errors should never pass silently.\n",
      "Unless explicitly silenced.\n",
      "In the face of ambiguity, refuse the temptation to guess.\n",
      "There should be one-- and preferably only one --obvious way to do it.\n",
      "Although that way may not be obvious at first unless you're Dutch.\n",
      "Now is better than never.\n",
      "Although never is often better than *right* now.\n",
      "If the implementation is hard to explain, it's a bad idea.\n",
      "If the implementation is easy to explain, it may be a good idea.\n",
      "Namespaces are one honking great idea -- let's do more of those!\n"
     ]
    }
   ],
   "source": [
    "import this"
   ]
  },
  {
   "cell_type": "code",
   "execution_count": 4,
   "id": "aeee605f",
   "metadata": {},
   "outputs": [
    {
     "name": "stdout",
     "output_type": "stream",
     "text": [
      "my name is RAJU\n"
     ]
    }
   ],
   "source": [
    "print(\"my name is RAJU\") "
   ]
  },
  {
   "cell_type": "code",
   "execution_count": 6,
   "id": "583eca7e",
   "metadata": {},
   "outputs": [],
   "source": [
    "a=1+2"
   ]
  },
  {
   "cell_type": "code",
   "execution_count": 7,
   "id": "7372d325",
   "metadata": {},
   "outputs": [
    {
     "data": {
      "text/plain": [
       "3"
      ]
     },
     "execution_count": 7,
     "metadata": {},
     "output_type": "execute_result"
    }
   ],
   "source": [
    "a"
   ]
  },
  {
   "cell_type": "code",
   "execution_count": 8,
   "id": "b747546f",
   "metadata": {},
   "outputs": [
    {
     "data": {
      "text/plain": [
       "int"
      ]
     },
     "execution_count": 8,
     "metadata": {},
     "output_type": "execute_result"
    }
   ],
   "source": [
    "type(a)"
   ]
  },
  {
   "cell_type": "code",
   "execution_count": 9,
   "id": "a8cb0701",
   "metadata": {},
   "outputs": [],
   "source": [
    "b = \"Raju\""
   ]
  },
  {
   "cell_type": "code",
   "execution_count": 10,
   "id": "cef4f998",
   "metadata": {},
   "outputs": [
    {
     "data": {
      "text/plain": [
       "str"
      ]
     },
     "execution_count": 10,
     "metadata": {},
     "output_type": "execute_result"
    }
   ],
   "source": [
    "type(b)"
   ]
  },
  {
   "cell_type": "code",
   "execution_count": 11,
   "id": "846f9cd6",
   "metadata": {},
   "outputs": [],
   "source": [
    "c = 6+7j"
   ]
  },
  {
   "cell_type": "code",
   "execution_count": 12,
   "id": "5bbb0c74",
   "metadata": {},
   "outputs": [
    {
     "data": {
      "text/plain": [
       "complex"
      ]
     },
     "execution_count": 12,
     "metadata": {},
     "output_type": "execute_result"
    }
   ],
   "source": [
    "type(c)"
   ]
  },
  {
   "cell_type": "code",
   "execution_count": 13,
   "id": "439ca267",
   "metadata": {},
   "outputs": [],
   "source": [
    "a=123\n",
    "b='Raju'\n",
    "c=True"
   ]
  },
  {
   "cell_type": "code",
   "execution_count": 14,
   "id": "891489b5",
   "metadata": {},
   "outputs": [
    {
     "data": {
      "text/plain": [
       "123"
      ]
     },
     "execution_count": 14,
     "metadata": {},
     "output_type": "execute_result"
    }
   ],
   "source": [
    "a"
   ]
  },
  {
   "cell_type": "code",
   "execution_count": 15,
   "id": "b68b33ad",
   "metadata": {},
   "outputs": [],
   "source": [
    "a1=12"
   ]
  },
  {
   "cell_type": "code",
   "execution_count": 16,
   "id": "377cc6c0",
   "metadata": {},
   "outputs": [
    {
     "data": {
      "text/plain": [
       "135"
      ]
     },
     "execution_count": 16,
     "metadata": {},
     "output_type": "execute_result"
    }
   ],
   "source": [
    "a+a1"
   ]
  },
  {
   "cell_type": "code",
   "execution_count": 17,
   "id": "a453bb50",
   "metadata": {},
   "outputs": [],
   "source": [
    "a,b,c,d = 234,'Raju',7+5J,True"
   ]
  },
  {
   "cell_type": "code",
   "execution_count": 19,
   "id": "711f20df",
   "metadata": {},
   "outputs": [
    {
     "data": {
      "text/plain": [
       "234"
      ]
     },
     "execution_count": 19,
     "metadata": {},
     "output_type": "execute_result"
    }
   ],
   "source": [
    "a"
   ]
  },
  {
   "cell_type": "code",
   "execution_count": 20,
   "id": "c7d5197f",
   "metadata": {},
   "outputs": [
    {
     "data": {
      "text/plain": [
       "'Raju'"
      ]
     },
     "execution_count": 20,
     "metadata": {},
     "output_type": "execute_result"
    }
   ],
   "source": [
    "b"
   ]
  },
  {
   "cell_type": "code",
   "execution_count": 21,
   "id": "30a6aa1b",
   "metadata": {},
   "outputs": [],
   "source": [
    "a = 4+5j"
   ]
  },
  {
   "cell_type": "code",
   "execution_count": 22,
   "id": "95f02ada",
   "metadata": {},
   "outputs": [
    {
     "data": {
      "text/plain": [
       "(4+5j)"
      ]
     },
     "execution_count": 22,
     "metadata": {},
     "output_type": "execute_result"
    }
   ],
   "source": [
    "a"
   ]
  },
  {
   "cell_type": "code",
   "execution_count": 23,
   "id": "d28353fc",
   "metadata": {},
   "outputs": [
    {
     "data": {
      "text/plain": [
       "complex"
      ]
     },
     "execution_count": 23,
     "metadata": {},
     "output_type": "execute_result"
    }
   ],
   "source": [
    "type(a)"
   ]
  },
  {
   "cell_type": "code",
   "execution_count": 24,
   "id": "c73071b6",
   "metadata": {},
   "outputs": [
    {
     "data": {
      "text/plain": [
       "5.0"
      ]
     },
     "execution_count": 24,
     "metadata": {},
     "output_type": "execute_result"
    }
   ],
   "source": [
    "a.imag"
   ]
  },
  {
   "cell_type": "code",
   "execution_count": 25,
   "id": "6a0561f3",
   "metadata": {},
   "outputs": [
    {
     "data": {
      "text/plain": [
       "4.0"
      ]
     },
     "execution_count": 25,
     "metadata": {},
     "output_type": "execute_result"
    }
   ],
   "source": [
    "a.real"
   ]
  },
  {
   "cell_type": "code",
   "execution_count": 30,
   "id": "18843959",
   "metadata": {},
   "outputs": [],
   "source": [
    "a = \"Raju\""
   ]
  },
  {
   "cell_type": "code",
   "execution_count": 31,
   "id": "24c13579",
   "metadata": {},
   "outputs": [
    {
     "data": {
      "text/plain": [
       "'Raju Niradi'"
      ]
     },
     "execution_count": 31,
     "metadata": {},
     "output_type": "execute_result"
    }
   ],
   "source": [
    "a+\" Niradi\""
   ]
  },
  {
   "cell_type": "code",
   "execution_count": 32,
   "id": "7387ff4f",
   "metadata": {},
   "outputs": [
    {
     "data": {
      "text/plain": [
       "2"
      ]
     },
     "execution_count": 32,
     "metadata": {},
     "output_type": "execute_result"
    }
   ],
   "source": [
    "True+True"
   ]
  },
  {
   "cell_type": "code",
   "execution_count": 33,
   "id": "b1dba2d7",
   "metadata": {},
   "outputs": [
    {
     "data": {
      "text/plain": [
       "2"
      ]
     },
     "execution_count": 33,
     "metadata": {},
     "output_type": "execute_result"
    }
   ],
   "source": [
    "1+True"
   ]
  },
  {
   "cell_type": "code",
   "execution_count": 40,
   "id": "01a5131b",
   "metadata": {},
   "outputs": [
    {
     "name": "stdout",
     "output_type": "stream",
     "text": [
      "123\n"
     ]
    }
   ],
   "source": [
    "a =input()"
   ]
  },
  {
   "cell_type": "code",
   "execution_count": 41,
   "id": "db32047c",
   "metadata": {},
   "outputs": [
    {
     "data": {
      "text/plain": [
       "'123'"
      ]
     },
     "execution_count": 41,
     "metadata": {},
     "output_type": "execute_result"
    }
   ],
   "source": [
    "a"
   ]
  },
  {
   "cell_type": "code",
   "execution_count": 42,
   "id": "a921982e",
   "metadata": {},
   "outputs": [],
   "source": [
    "b = 14"
   ]
  },
  {
   "cell_type": "code",
   "execution_count": 43,
   "id": "3991b1d9",
   "metadata": {},
   "outputs": [
    {
     "data": {
      "text/plain": [
       "14"
      ]
     },
     "execution_count": 43,
     "metadata": {},
     "output_type": "execute_result"
    }
   ],
   "source": [
    "b"
   ]
  },
  {
   "cell_type": "code",
   "execution_count": 44,
   "id": "fa608d7b",
   "metadata": {},
   "outputs": [
    {
     "data": {
      "text/plain": [
       "137"
      ]
     },
     "execution_count": 44,
     "metadata": {},
     "output_type": "execute_result"
    }
   ],
   "source": [
    "int(a)+b #converting type casting a('123') str to int"
   ]
  },
  {
   "cell_type": "code",
   "execution_count": null,
   "id": "303938d5",
   "metadata": {},
   "outputs": [],
   "source": []
  }
 ],
 "metadata": {
  "kernelspec": {
   "display_name": "Python 3 (ipykernel)",
   "language": "python",
   "name": "python3"
  },
  "language_info": {
   "codemirror_mode": {
    "name": "ipython",
    "version": 3
   },
   "file_extension": ".py",
   "mimetype": "text/x-python",
   "name": "python",
   "nbconvert_exporter": "python",
   "pygments_lexer": "ipython3",
   "version": "3.9.7"
  }
 },
 "nbformat": 4,
 "nbformat_minor": 5
}
