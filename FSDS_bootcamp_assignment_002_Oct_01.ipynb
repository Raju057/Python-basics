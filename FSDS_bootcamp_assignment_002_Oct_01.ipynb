{
  "nbformat": 4,
  "nbformat_minor": 0,
  "metadata": {
    "colab": {
      "provenance": [],
      "authorship_tag": "ABX9TyOy9s2ASmBz24Wi66gMFMcT",
      "include_colab_link": true
    },
    "kernelspec": {
      "name": "python3",
      "display_name": "Python 3"
    },
    "language_info": {
      "name": "python"
    }
  },
  "cells": [
    {
      "cell_type": "markdown",
      "metadata": {
        "id": "view-in-github",
        "colab_type": "text"
      },
      "source": [
        "<a href=\"https://colab.research.google.com/github/Raju057/Python-basics/blob/main/FSDS_bootcamp_assignment_002_Oct_01.ipynb\" target=\"_parent\"><img src=\"https://colab.research.google.com/assets/colab-badge.svg\" alt=\"Open In Colab\"/></a>"
      ]
    },
    {
      "cell_type": "markdown",
      "source": [
        "1 .What is indentation error? Why indentation is important? Give one simple example?"
      ],
      "metadata": {
        "id": "S3FCH30BiPUK"
      }
    },
    {
      "cell_type": "markdown",
      "source": [
        "In Python, all the code that we type is arranged via correct whitespaces and therefore if at any instance we have a bad indentation, the overall code will not run and the interpreter will simply return an error function.\n",
        "\n",
        "Indentation is important :Readability and consistency are essential for any good code. Following the PEP 8 whitespace, ethics should thus be non-negotiable. It logically substantiates our code, thereby contributing to a more pleasant coding experience.\n",
        "\n",
        "Example:\n"
      ],
      "metadata": {
        "id": "Qg66KVIzjI2x"
      }
    },
    {
      "cell_type": "code",
      "source": [
        "class_started = False\n",
        "if class_started:\n",
        "  print(\"Concentrate\")\n",
        "else :\n",
        "  print(\"lets revise\")"
      ],
      "metadata": {
        "colab": {
          "base_uri": "https://localhost:8080/"
        },
        "id": "bLeJMY_yl0W5",
        "outputId": "6bb5f912-c52b-4b9d-b90e-1c821185c9c5"
      },
      "execution_count": 28,
      "outputs": [
        {
          "output_type": "stream",
          "name": "stdout",
          "text": [
            "lets revise\n"
          ]
        }
      ]
    },
    {
      "cell_type": "markdown",
      "source": [
        "2. Correct the following code and write the comment where you made the correction?\n",
        "  "
      ],
      "metadata": {
        "id": "Yzjc-X59mIFU"
      }
    },
    {
      "cell_type": "code",
      "source": [
        "class_started = int(input(\"Hey friend, is class started?: [0-False/1-True]\")) # input is given in integer\n",
        "if class_started:\n",
        "   print(\"Since class started...\")\n",
        "   print(\"Lets concentrate\")\n",
        "else:\n",
        "   print(\"Since class is not started...\")\n",
        "   print(\"let's revise\") "
      ],
      "metadata": {
        "colab": {
          "base_uri": "https://localhost:8080/"
        },
        "id": "xnY85NJ_mW48",
        "outputId": "9fd87eb0-3972-42b0-9132-bfa175de7c78"
      },
      "execution_count": 33,
      "outputs": [
        {
          "output_type": "stream",
          "name": "stdout",
          "text": [
            "Hey friend, is class started?: [0-False/1-True]0\n",
            "Since class is not started...\n",
            "let's revise\n"
          ]
        }
      ]
    },
    {
      "cell_type": "markdown",
      "source": [
        "3.Use if else condition to verify that dataype of input() method in python is always string.\n",
        "\n"
      ],
      "metadata": {
        "id": "lUvvqZEIyH8h"
      }
    },
    {
      "cell_type": "code",
      "source": [
        "A =input(\"Enter the data :\") # its consider input as string if type input not mentioned\n",
        "if A == 5:\n",
        "  print(\" class started\")\n",
        "else:\n",
        "  print(\"class not started\")\n",
        "type(A)\n"
      ],
      "metadata": {
        "id": "_WgYeq0xmd2R",
        "colab": {
          "base_uri": "https://localhost:8080/"
        },
        "outputId": "b204436e-8225-46dd-fb7f-9fec26a9d928"
      },
      "execution_count": 55,
      "outputs": [
        {
          "output_type": "stream",
          "name": "stdout",
          "text": [
            "Enter the data :5\n",
            "class not started\n"
          ]
        },
        {
          "output_type": "execute_result",
          "data": {
            "text/plain": [
              "str"
            ]
          },
          "metadata": {},
          "execution_count": 55
        }
      ]
    },
    {
      "cell_type": "code",
      "source": [
        "type(a)"
      ],
      "metadata": {
        "id": "bYm6tYBjnqBd",
        "colab": {
          "base_uri": "https://localhost:8080/",
          "height": 165
        },
        "outputId": "90234953-e4c2-4878-95ec-c5deb16b460a"
      },
      "execution_count": 51,
      "outputs": [
        {
          "output_type": "error",
          "ename": "NameError",
          "evalue": "ignored",
          "traceback": [
            "\u001b[0;31m---------------------------------------------------------------------------\u001b[0m",
            "\u001b[0;31mNameError\u001b[0m                                 Traceback (most recent call last)",
            "\u001b[0;32m<ipython-input-51-b152ec05ccbc>\u001b[0m in \u001b[0;36m<module>\u001b[0;34m\u001b[0m\n\u001b[0;32m----> 1\u001b[0;31m \u001b[0mtype\u001b[0m\u001b[0;34m(\u001b[0m\u001b[0ma\u001b[0m\u001b[0;34m)\u001b[0m\u001b[0;34m\u001b[0m\u001b[0;34m\u001b[0m\u001b[0m\n\u001b[0m",
            "\u001b[0;31mNameError\u001b[0m: name 'a' is not defined"
          ]
        }
      ]
    },
    {
      "cell_type": "code",
      "source": [],
      "metadata": {
        "id": "eT3uwqPGzz6c"
      },
      "execution_count": null,
      "outputs": []
    }
  ]
}