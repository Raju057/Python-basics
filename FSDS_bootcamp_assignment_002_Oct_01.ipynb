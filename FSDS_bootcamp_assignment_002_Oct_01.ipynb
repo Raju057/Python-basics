{
  "nbformat": 4,
  "nbformat_minor": 0,
  "metadata": {
    "colab": {
      "provenance": [],
      "authorship_tag": "ABX9TyOwzi/eXFBDZv2O3v9Hyifm",
      "include_colab_link": true
    },
    "kernelspec": {
      "name": "python3",
      "display_name": "Python 3"
    },
    "language_info": {
      "name": "python"
    }
  },
  "cells": [
    {
      "cell_type": "markdown",
      "metadata": {
        "id": "view-in-github",
        "colab_type": "text"
      },
      "source": [
        "<a href=\"https://colab.research.google.com/github/Raju057/Python-basics/blob/main/FSDS_bootcamp_assignment_002_Oct_01.ipynb\" target=\"_parent\"><img src=\"https://colab.research.google.com/assets/colab-badge.svg\" alt=\"Open In Colab\"/></a>"
      ]
    },
    {
      "cell_type": "markdown",
      "source": [
        "1 .What is indentation error? Why indentation is important? Give one simple example?"
      ],
      "metadata": {
        "id": "S3FCH30BiPUK"
      }
    },
    {
      "cell_type": "markdown",
      "source": [
        "In Python, all the code that we type is arranged via correct whitespaces and therefore if at any instance we have a bad indentation, the overall code will not run and the interpreter will simply return an error function.\n",
        "\n",
        "Indentation is important :Readability and consistency are essential for any good code. Following the PEP 8 whitespace, ethics should thus be non-negotiable. It logically substantiates our code, thereby contributing to a more pleasant coding experience.\n",
        "\n",
        "Example:\n"
      ],
      "metadata": {
        "id": "Qg66KVIzjI2x"
      }
    },
    {
      "cell_type": "code",
      "source": [
        "class_started = False\n",
        "if class_started:\n",
        "  print(\"Concentrate\")\n",
        "else :\n",
        "  print(\"lets revise\")"
      ],
      "metadata": {
        "colab": {
          "base_uri": "https://localhost:8080/"
        },
        "id": "bLeJMY_yl0W5",
        "outputId": "6bb5f912-c52b-4b9d-b90e-1c821185c9c5"
      },
      "execution_count": null,
      "outputs": [
        {
          "output_type": "stream",
          "name": "stdout",
          "text": [
            "lets revise\n"
          ]
        }
      ]
    },
    {
      "cell_type": "markdown",
      "source": [
        "2. Correct the following code and write the comment where you made the correction?\n",
        "  "
      ],
      "metadata": {
        "id": "Yzjc-X59mIFU"
      }
    },
    {
      "cell_type": "code",
      "source": [
        "class_started = int(input(\"Hey friend, is class started?: [0-False/1-True]\")) # input is given in integer\n",
        "if class_started:\n",
        "   print(\"Since class started...\")\n",
        "   print(\"Lets concentrate\")\n",
        "else:\n",
        "   print(\"Since class is not started...\")\n",
        "   print(\"let's revise\") "
      ],
      "metadata": {
        "colab": {
          "base_uri": "https://localhost:8080/"
        },
        "id": "xnY85NJ_mW48",
        "outputId": "9fd87eb0-3972-42b0-9132-bfa175de7c78"
      },
      "execution_count": null,
      "outputs": [
        {
          "output_type": "stream",
          "name": "stdout",
          "text": [
            "Hey friend, is class started?: [0-False/1-True]0\n",
            "Since class is not started...\n",
            "let's revise\n"
          ]
        }
      ]
    },
    {
      "cell_type": "markdown",
      "source": [
        "3.Use if else condition to verify that dataype of input() method in python is always string.\n",
        "\n"
      ],
      "metadata": {
        "id": "lUvvqZEIyH8h"
      }
    },
    {
      "cell_type": "code",
      "source": [
        "A =input(\"Enter the data :\") # its consider input as string if type input not mentioned\n",
        "if A == 5:\n",
        "  print(\" class started\")\n",
        "else:\n",
        "  print(\"class not started\")\n",
        "type(A)\n"
      ],
      "metadata": {
        "id": "_WgYeq0xmd2R",
        "colab": {
          "base_uri": "https://localhost:8080/"
        },
        "outputId": "b204436e-8225-46dd-fb7f-9fec26a9d928"
      },
      "execution_count": null,
      "outputs": [
        {
          "output_type": "stream",
          "name": "stdout",
          "text": [
            "Enter the data :5\n",
            "class not started\n"
          ]
        },
        {
          "output_type": "execute_result",
          "data": {
            "text/plain": [
              "str"
            ]
          },
          "metadata": {},
          "execution_count": 55
        }
      ]
    },
    {
      "cell_type": "markdown",
      "source": [
        "4.Take 3 variables and assign integer values to them. Find the largest variable, by only using the if and else conditions."
      ],
      "metadata": {
        "id": "vTQuZDsLRgDt"
      }
    },
    {
      "cell_type": "code",
      "source": [
        "A = int(input(\"Enter Value of A :\"))\n",
        "B = int(input(\"Enter Value of B :\"))\n",
        "C = int(input(\"Enter Value of C :\"))\n",
        "if (A > B) and (A > C):\n",
        " print (\" A is largest no\",A)\n",
        "elif (B > A) and (B > C):\n",
        "  print (\" B is largest no\",B)\n",
        "else:\n",
        "  print (\" C is largest no\",C)"
      ],
      "metadata": {
        "id": "bYm6tYBjnqBd",
        "colab": {
          "base_uri": "https://localhost:8080/"
        },
        "outputId": "61125e06-ac72-4e82-e4d7-a99f46ea9cfb"
      },
      "execution_count": 28,
      "outputs": [
        {
          "output_type": "stream",
          "name": "stdout",
          "text": [
            "Enter Value of A :5\n",
            "Enter Value of B :6\n",
            "Enter Value of C :7\n",
            " C is largest no 7\n"
          ]
        }
      ]
    },
    {
      "cell_type": "markdown",
      "source": [
        "5. What would be the solution?\n",
        "\n",
        "True\n",
        "\n",
        "False"
      ],
      "metadata": {
        "id": "lXkIhyoXsb77"
      }
    },
    {
      "cell_type": "code",
      "source": [
        "a = 6\n",
        "b = 10\n",
        "print( not ( not a == 6 or not b == 10) )"
      ],
      "metadata": {
        "colab": {
          "base_uri": "https://localhost:8080/"
        },
        "id": "snmyN-9XTg-2",
        "outputId": "aa80b080-5fe9-4f11-8f68-b7358210ea2f"
      },
      "execution_count": 39,
      "outputs": [
        {
          "output_type": "stream",
          "name": "stdout",
          "text": [
            "True\n"
          ]
        }
      ]
    },
    {
      "cell_type": "markdown",
      "source": [
        "6.Find the answer as well as find out the reason behind the result? "
      ],
      "metadata": {
        "id": "En5zlo2fsrpG"
      }
    },
    {
      "cell_type": "code",
      "source": [
        "\n",
        "  A = 5.0\n",
        "  B = 10/2\n",
        "  print(A is B)\n",
        "  \n"
      ],
      "metadata": {
        "colab": {
          "base_uri": "https://localhost:8080/"
        },
        "id": "gGJavofQq5DP",
        "outputId": "ac56cc7f-2981-4a26-bb0a-dba17b60e677"
      },
      "execution_count": 58,
      "outputs": [
        {
          "output_type": "stream",
          "name": "stdout",
          "text": [
            "False\n"
          ]
        },
        {
          "output_type": "execute_result",
          "data": {
            "text/plain": [
              "float"
            ]
          },
          "metadata": {},
          "execution_count": 58
        }
      ]
    },
    {
      "cell_type": "code",
      "source": [
        "\n",
        "  A = 5.0 # A is float number and B is Integer\n",
        "  B = int(10/2)\n",
        "  print(A is B)"
      ],
      "metadata": {
        "colab": {
          "base_uri": "https://localhost:8080/"
        },
        "id": "a5DZSe1cs3WV",
        "outputId": "d18816b3-ce01-4ba0-e710-ca6f79d51c0d"
      },
      "execution_count": 48,
      "outputs": [
        {
          "output_type": "stream",
          "name": "stdout",
          "text": [
            "False\n"
          ]
        }
      ]
    },
    {
      "cell_type": "code",
      "source": [
        "\n",
        "  A = 5.0\n",
        "  B = float(10/2)\n",
        "  print(A is B)"
      ],
      "metadata": {
        "colab": {
          "base_uri": "https://localhost:8080/"
        },
        "id": "N3cDAe8dtVoq",
        "outputId": "4ffa0d8c-59a8-409c-8ebc-9f89056780cf"
      },
      "execution_count": 54,
      "outputs": [
        {
          "output_type": "stream",
          "name": "stdout",
          "text": [
            "False\n"
          ]
        }
      ]
    },
    {
      "cell_type": "markdown",
      "source": [
        "7. Write a program that asks the user to enter a number. You should print out a message to the user, either “That number is divisible by either 3 or 5”, or “That number is not divisible by either 3 or 5”. Be sure to consider the data type of the input you are taking in from the user. Use a single if/else block to solve this problem.\n",
        "\n",
        "8. Take user input for length and width. Then calculate the area of rectangle. Also print as per length and width whether its a square of rectangle.\n",
        "\n",
        "\n",
        "\n",
        "10. Check whether a year is leap year or not. Use nested if...else to solve this problem. A leap year is exactly divisible by 4 except for century years (years ending with 00). The century year is a leap year only if it is perfectly divisible by 400."
      ],
      "metadata": {
        "id": "IPs3rKZVvSmd"
      }
    },
    {
      "cell_type": "markdown",
      "source": [
        "9. Take two variable radius_1 and radius_2 and calculate the area of circle_1 and circle_2. Also print which circle has large area. If area is equal then print area is equal."
      ],
      "metadata": {
        "id": "lI6A96-GClFl"
      }
    },
    {
      "cell_type": "code",
      "source": [
        "import math \n",
        "A = int(input(\"radius_1 :\"))\n",
        "B = int(input(\"radius_2 :\"))\n",
        "area_of_circle_1 = (2*math.pi*A)\n",
        "print(\"area_of_circle_1:\",area_of_circle_1)\n",
        "area_of_circle_2 = (2*math.pi*B)\n",
        "print(\"area_of_circle_2:\",area_of_circle_2)\n",
        "if area_of_circle_1 > area_of_circle_2:\n",
        "  print (\"area_of_circle_1 is grater than area_of_circle_2\",area_of_circle_1)\n",
        "elif area_of_circle_1 == area_of_circle_2:\n",
        " print(\"area_of_circle_1 equal to area_of_circle_2\")\n",
        "else :\n",
        "  print (\"area_of_circle_2 is grater than area_of_circle_1\",area_of_circle_2)"
      ],
      "metadata": {
        "colab": {
          "base_uri": "https://localhost:8080/"
        },
        "id": "U1RWx8K8vTq2",
        "outputId": "70296b9b-65d1-4a70-a5d1-5784e17e39af"
      },
      "execution_count": 60,
      "outputs": [
        {
          "output_type": "stream",
          "name": "stdout",
          "text": [
            "radius_1 :2\n",
            "radius_2 :2\n",
            "area_of_circle_1: 12.566370614359172\n",
            "area_of_circle_2: 12.566370614359172\n",
            "area_of_circle_1 equal to area_of_circle_2\n"
          ]
        }
      ]
    },
    {
      "cell_type": "code",
      "source": [],
      "metadata": {
        "id": "KCehWelYCr0X"
      },
      "execution_count": null,
      "outputs": []
    }
  ]
}