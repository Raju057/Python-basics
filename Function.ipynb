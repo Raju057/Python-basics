{
 "cells": [
  {
   "cell_type": "code",
   "execution_count": 1,
   "id": "ca5ff793",
   "metadata": {},
   "outputs": [],
   "source": [
    "a = \"raju\""
   ]
  },
  {
   "cell_type": "code",
   "execution_count": 2,
   "id": "536909b7",
   "metadata": {},
   "outputs": [
    {
     "data": {
      "text/plain": [
       "4"
      ]
     },
     "execution_count": 2,
     "metadata": {},
     "output_type": "execute_result"
    }
   ],
   "source": [
    "len (a)"
   ]
  },
  {
   "cell_type": "code",
   "execution_count": 3,
   "id": "7087fb90",
   "metadata": {},
   "outputs": [],
   "source": [
    "l = [1,1,2,2]"
   ]
  },
  {
   "cell_type": "code",
   "execution_count": 4,
   "id": "94d2e40e",
   "metadata": {},
   "outputs": [
    {
     "data": {
      "text/plain": [
       "4"
      ]
     },
     "execution_count": 4,
     "metadata": {},
     "output_type": "execute_result"
    }
   ],
   "source": [
    "len (l)"
   ]
  },
  {
   "cell_type": "code",
   "execution_count": 5,
   "id": "2b2cfe61",
   "metadata": {},
   "outputs": [],
   "source": [
    "# len is pre defineded function \n",
    "# increase re useability of code we use function"
   ]
  },
  {
   "cell_type": "code",
   "execution_count": 6,
   "id": "0eb6600a",
   "metadata": {},
   "outputs": [],
   "source": [
    "def test(): # first step in create function \n",
    "    pass\n",
    "    "
   ]
  },
  {
   "cell_type": "code",
   "execution_count": 7,
   "id": "1187dd36",
   "metadata": {},
   "outputs": [],
   "source": [
    "def test1():\n",
    "    print(\"this is my first function\")"
   ]
  },
  {
   "cell_type": "code",
   "execution_count": 8,
   "id": "43f1a431",
   "metadata": {},
   "outputs": [
    {
     "name": "stdout",
     "output_type": "stream",
     "text": [
      "this is my first function\n"
     ]
    }
   ],
   "source": [
    "test1()#call of the function "
   ]
  },
  {
   "cell_type": "code",
   "execution_count": 9,
   "id": "28b6af6d",
   "metadata": {},
   "outputs": [
    {
     "name": "stdout",
     "output_type": "stream",
     "text": [
      "this is my first function\n"
     ]
    }
   ],
   "source": [
    "a = test1() # storeing the function in vatiable "
   ]
  },
  {
   "cell_type": "code",
   "execution_count": 10,
   "id": "abb2c996",
   "metadata": {},
   "outputs": [],
   "source": [
    "a # not giveing the variable o/p"
   ]
  },
  {
   "cell_type": "code",
   "execution_count": 11,
   "id": "16eaa87d",
   "metadata": {},
   "outputs": [
    {
     "data": {
      "text/plain": [
       "NoneType"
      ]
     },
     "execution_count": 11,
     "metadata": {},
     "output_type": "execute_result"
    }
   ],
   "source": [
    "type(a)"
   ]
  },
  {
   "cell_type": "code",
   "execution_count": 12,
   "id": "771b397d",
   "metadata": {},
   "outputs": [],
   "source": [
    "#noneType variable not hold any out come\n",
    "#print is premitive data type  "
   ]
  },
  {
   "cell_type": "code",
   "execution_count": 13,
   "id": "adb7329f",
   "metadata": {},
   "outputs": [],
   "source": [
    "def test2():\n",
    "    return 5"
   ]
  },
  {
   "cell_type": "code",
   "execution_count": 14,
   "id": "93d093c4",
   "metadata": {},
   "outputs": [
    {
     "data": {
      "text/plain": [
       "5"
      ]
     },
     "execution_count": 14,
     "metadata": {},
     "output_type": "execute_result"
    }
   ],
   "source": [
    "test2()"
   ]
  },
  {
   "cell_type": "code",
   "execution_count": 15,
   "id": "e2b7ddf5",
   "metadata": {},
   "outputs": [],
   "source": [
    "d = test2()"
   ]
  },
  {
   "cell_type": "code",
   "execution_count": 16,
   "id": "0fc70dd3",
   "metadata": {},
   "outputs": [
    {
     "data": {
      "text/plain": [
       "5"
      ]
     },
     "execution_count": 16,
     "metadata": {},
     "output_type": "execute_result"
    }
   ],
   "source": [
    "d"
   ]
  },
  {
   "cell_type": "code",
   "execution_count": 17,
   "id": "3661bea4",
   "metadata": {},
   "outputs": [],
   "source": [
    "def test3():\n",
    "    return 5"
   ]
  },
  {
   "cell_type": "code",
   "execution_count": 18,
   "id": "ce507573",
   "metadata": {},
   "outputs": [],
   "source": [
    "def test4():\n",
    "    print(\" raju\")"
   ]
  },
  {
   "cell_type": "code",
   "execution_count": 19,
   "id": "e4aad099",
   "metadata": {},
   "outputs": [
    {
     "data": {
      "text/plain": [
       "5"
      ]
     },
     "execution_count": 19,
     "metadata": {},
     "output_type": "execute_result"
    }
   ],
   "source": [
    "test3()"
   ]
  },
  {
   "cell_type": "code",
   "execution_count": 20,
   "id": "bbf57fe6",
   "metadata": {},
   "outputs": [
    {
     "name": "stdout",
     "output_type": "stream",
     "text": [
      " raju\n"
     ]
    }
   ],
   "source": [
    "e = test4()"
   ]
  },
  {
   "cell_type": "code",
   "execution_count": 21,
   "id": "fcaf9788",
   "metadata": {},
   "outputs": [],
   "source": [
    "e"
   ]
  },
  {
   "cell_type": "code",
   "execution_count": 22,
   "id": "c0f877cd",
   "metadata": {},
   "outputs": [],
   "source": [
    "def test4():\n",
    "    return(\" raju\") "
   ]
  },
  {
   "cell_type": "code",
   "execution_count": 23,
   "id": "874bea43",
   "metadata": {},
   "outputs": [
    {
     "data": {
      "text/plain": [
       "' rajuniradi'"
      ]
     },
     "execution_count": 23,
     "metadata": {},
     "output_type": "execute_result"
    }
   ],
   "source": [
    "test4()+\"niradi\""
   ]
  },
  {
   "cell_type": "code",
   "execution_count": 24,
   "id": "931eb445",
   "metadata": {},
   "outputs": [],
   "source": [
    "def test5():\n",
    "    return 1,3,[1,5,5,\"ra\"] #return multiple outcomes whenever mutiple data types return with tuple"
   ]
  },
  {
   "cell_type": "code",
   "execution_count": 25,
   "id": "8ef359bc",
   "metadata": {},
   "outputs": [
    {
     "data": {
      "text/plain": [
       "tuple"
      ]
     },
     "execution_count": 25,
     "metadata": {},
     "output_type": "execute_result"
    }
   ],
   "source": [
    "type(test5())"
   ]
  },
  {
   "cell_type": "code",
   "execution_count": 26,
   "id": "16699846",
   "metadata": {},
   "outputs": [
    {
     "data": {
      "text/plain": [
       "[1, 5, 5, 'ra']"
      ]
     },
     "execution_count": 26,
     "metadata": {},
     "output_type": "execute_result"
    }
   ],
   "source": [
    "test5()[2]# extraction of data slicing"
   ]
  },
  {
   "cell_type": "code",
   "execution_count": 27,
   "id": "0ed2e5f4",
   "metadata": {},
   "outputs": [],
   "source": [
    "a,b,c = test5() # multibale variable assignment"
   ]
  },
  {
   "cell_type": "code",
   "execution_count": 28,
   "id": "b4d211ee",
   "metadata": {},
   "outputs": [
    {
     "data": {
      "text/plain": [
       "1"
      ]
     },
     "execution_count": 28,
     "metadata": {},
     "output_type": "execute_result"
    }
   ],
   "source": [
    "a"
   ]
  },
  {
   "cell_type": "code",
   "execution_count": 29,
   "id": "1a5cbb8e",
   "metadata": {},
   "outputs": [
    {
     "data": {
      "text/plain": [
       "3"
      ]
     },
     "execution_count": 29,
     "metadata": {},
     "output_type": "execute_result"
    }
   ],
   "source": [
    "b"
   ]
  },
  {
   "cell_type": "code",
   "execution_count": 30,
   "id": "5ad7533a",
   "metadata": {},
   "outputs": [
    {
     "data": {
      "text/plain": [
       "[1, 5, 5, 'ra']"
      ]
     },
     "execution_count": 30,
     "metadata": {},
     "output_type": "execute_result"
    }
   ],
   "source": [
    "c"
   ]
  },
  {
   "cell_type": "code",
   "execution_count": 31,
   "id": "41ea0ba3",
   "metadata": {},
   "outputs": [],
   "source": [
    "def test8():\n",
    "    a = 4+5\n",
    "    return a"
   ]
  },
  {
   "cell_type": "code",
   "execution_count": 32,
   "id": "fe9210b7",
   "metadata": {},
   "outputs": [
    {
     "data": {
      "text/plain": [
       "9"
      ]
     },
     "execution_count": 32,
     "metadata": {},
     "output_type": "execute_result"
    }
   ],
   "source": [
    "test8()"
   ]
  },
  {
   "cell_type": "code",
   "execution_count": 33,
   "id": "64f6a187",
   "metadata": {},
   "outputs": [],
   "source": [
    "l = [1,2,6,8,9,2,4,5]\n",
    "a = 0\n",
    "for i in l:\n",
    "    a\n",
    "    a=i+a\n"
   ]
  },
  {
   "cell_type": "code",
   "execution_count": 34,
   "id": "c51a49b0",
   "metadata": {},
   "outputs": [
    {
     "data": {
      "text/plain": [
       "37"
      ]
     },
     "execution_count": 34,
     "metadata": {},
     "output_type": "execute_result"
    }
   ],
   "source": [
    "a"
   ]
  },
  {
   "cell_type": "code",
   "execution_count": 35,
   "id": "565413f7",
   "metadata": {},
   "outputs": [],
   "source": [
    "def test9():\n",
    "    l = [1,2,6,8,9,2,4,5]\n",
    "    a = 0\n",
    "    for i in l:\n",
    "        a=i+a\n",
    "    return a"
   ]
  },
  {
   "cell_type": "code",
   "execution_count": 36,
   "id": "cf5be452",
   "metadata": {},
   "outputs": [
    {
     "data": {
      "text/plain": [
       "37"
      ]
     },
     "execution_count": 36,
     "metadata": {},
     "output_type": "execute_result"
    }
   ],
   "source": [
    "a"
   ]
  },
  {
   "cell_type": "code",
   "execution_count": null,
   "id": "169ec71f",
   "metadata": {},
   "outputs": [],
   "source": []
  },
  {
   "cell_type": "code",
   "execution_count": 37,
   "id": "41661303",
   "metadata": {},
   "outputs": [],
   "source": [
    "def test9():\n",
    "    l = [1,2,6,8,9,2,4,5]\n",
    "    a = 0\n",
    "    for i in l:\n",
    "        if type(i) == int:\n",
    "            a = i+a\n",
    "    return a"
   ]
  },
  {
   "cell_type": "code",
   "execution_count": 38,
   "id": "ed566e07",
   "metadata": {},
   "outputs": [
    {
     "data": {
      "text/plain": [
       "37"
      ]
     },
     "execution_count": 38,
     "metadata": {},
     "output_type": "execute_result"
    }
   ],
   "source": [
    "test9()"
   ]
  },
  {
   "cell_type": "code",
   "execution_count": 39,
   "id": "964dd78d",
   "metadata": {},
   "outputs": [
    {
     "data": {
      "text/plain": [
       "[1, 2, 6, 8, 9, 2, 4, 5]"
      ]
     },
     "execution_count": 39,
     "metadata": {},
     "output_type": "execute_result"
    }
   ],
   "source": [
    "l"
   ]
  },
  {
   "cell_type": "code",
   "execution_count": 40,
   "id": "498f6673",
   "metadata": {},
   "outputs": [],
   "source": [
    "def test10(l):\n",
    "    a = 0\n",
    "    for i in l:\n",
    "        if type(i)== int:\n",
    "            a = i + a\n",
    "    return a"
   ]
  },
  {
   "cell_type": "code",
   "execution_count": 41,
   "id": "578f7230",
   "metadata": {},
   "outputs": [
    {
     "data": {
      "text/plain": [
       "37"
      ]
     },
     "execution_count": 41,
     "metadata": {},
     "output_type": "execute_result"
    }
   ],
   "source": [
    "a"
   ]
  },
  {
   "cell_type": "code",
   "execution_count": 42,
   "id": "2f30ba4c",
   "metadata": {},
   "outputs": [],
   "source": [
    " l = [1,2,6,8,9,2,4,5]"
   ]
  },
  {
   "cell_type": "code",
   "execution_count": 43,
   "id": "e349ed8d",
   "metadata": {},
   "outputs": [
    {
     "data": {
      "text/plain": [
       "37"
      ]
     },
     "execution_count": 43,
     "metadata": {},
     "output_type": "execute_result"
    }
   ],
   "source": [
    "test10(l)"
   ]
  },
  {
   "cell_type": "code",
   "execution_count": 44,
   "id": "54cf59f1",
   "metadata": {},
   "outputs": [],
   "source": [
    "def test11(a,b):\n",
    "    return a+b"
   ]
  },
  {
   "cell_type": "code",
   "execution_count": 45,
   "id": "08b295dc",
   "metadata": {},
   "outputs": [
    {
     "data": {
      "text/plain": [
       "'raju'"
      ]
     },
     "execution_count": 45,
     "metadata": {},
     "output_type": "execute_result"
    }
   ],
   "source": [
    "test11(\"ra\",\"ju\")"
   ]
  },
  {
   "cell_type": "code",
   "execution_count": 46,
   "id": "b89e2a67",
   "metadata": {},
   "outputs": [],
   "source": [
    "l1 = [1,2,3,5,\"raju\",5,7,\"niradi\"]\n",
    "def test12():\n",
    "    \"\"\"this function helps seperate string from list\"\"\"\n",
    "    l1 = []\n",
    "    for i in l:\n",
    "        if type(i) == str:\n",
    "            l1.append(i)\n",
    "    return l1\n",
    "    "
   ]
  },
  {
   "cell_type": "code",
   "execution_count": 47,
   "id": "b616e711",
   "metadata": {},
   "outputs": [
    {
     "data": {
      "text/plain": [
       "[]"
      ]
     },
     "execution_count": 47,
     "metadata": {},
     "output_type": "execute_result"
    }
   ],
   "source": [
    "test12()"
   ]
  },
  {
   "cell_type": "code",
   "execution_count": 48,
   "id": "f72334f7",
   "metadata": {},
   "outputs": [
    {
     "data": {
      "text/plain": [
       "[]"
      ]
     },
     "execution_count": 48,
     "metadata": {},
     "output_type": "execute_result"
    }
   ],
   "source": [
    "test12()"
   ]
  },
  {
   "cell_type": "code",
   "execution_count": 49,
   "id": "691f2440",
   "metadata": {},
   "outputs": [
    {
     "ename": "SyntaxError",
     "evalue": "invalid syntax (Temp/ipykernel_11020/2051451729.py, line 1)",
     "output_type": "error",
     "traceback": [
      "\u001b[1;36m  File \u001b[1;32m\"C:\\Users\\rajun\\AppData\\Local\\Temp/ipykernel_11020/2051451729.py\"\u001b[1;36m, line \u001b[1;32m1\u001b[0m\n\u001b[1;33m    1. write a function which will try to find out len of a string without using an inbuilt len function\u001b[0m\n\u001b[1;37m       ^\u001b[0m\n\u001b[1;31mSyntaxError\u001b[0m\u001b[1;31m:\u001b[0m invalid syntax\n"
     ]
    }
   ],
   "source": [
    "1. write a function which will try to find out len of a string without using an inbuilt len function \n",
    "2. write a function which  will be able to print an index of list element without using an index function\n",
    "3. write a function which will be able to print an ip address of your system\n",
    "4. write a function which will shutdown your system\n",
    "5. write a function which will take input as a list with any kind of numeric value and give an out as a multiplication of \n",
    "all the numeric data l = [3.5, 6.56, 4,5,\"sudh\" , \"ineuron\" , 'fsda bootcamp 2.0']\n",
    "6. write a function which will be able to read all the mails \n",
    "7 . write a function which will be able to send a mail to anyone \n",
    "8. write a function which will be able to read a doc/word file from your system \n",
    "\n",
    "you are suppose to complete this by oct 30th before your \n",
    "live class and you have to send a solution at mail id - query@ineuron.ai\n",
    "submit your git link to mail "
   ]
  },
  {
   "cell_type": "code",
   "execution_count": 70,
   "id": "cddfd7d7",
   "metadata": {},
   "outputs": [],
   "source": [
    "#1. write a function which will try to find out len of a string without using an inbuilt len function"
   ]
  },
  {
   "cell_type": "code",
   "execution_count": 1,
   "id": "214ec211",
   "metadata": {},
   "outputs": [],
   "source": [
    "def len_str():\n",
    "    a = input(\"enter string : \")\n",
    "    count = 0\n",
    "    for i in a:\n",
    "        count = count + 1\n",
    "    print(f\"length of string is :{count}\")\n",
    "    return a\n",
    "    "
   ]
  },
  {
   "cell_type": "code",
   "execution_count": 2,
   "id": "38eef96f",
   "metadata": {},
   "outputs": [
    {
     "name": "stdout",
     "output_type": "stream",
     "text": [
      "enter string : rrrr\n",
      "length of string is :4\n"
     ]
    },
    {
     "data": {
      "text/plain": [
       "'rrrr'"
      ]
     },
     "execution_count": 2,
     "metadata": {},
     "output_type": "execute_result"
    }
   ],
   "source": [
    "len_str()"
   ]
  },
  {
   "cell_type": "code",
   "execution_count": 3,
   "id": "20e1e596",
   "metadata": {},
   "outputs": [],
   "source": [
    "def test(s):\n",
    "    count = 0\n",
    "    for i in s:\n",
    "        #if type(i) == str:\n",
    "            count = count + 1\n",
    "        return count"
   ]
  },
  {
   "cell_type": "code",
   "execution_count": null,
   "id": "040cf462",
   "metadata": {},
   "outputs": [],
   "source": [
    "#2. write a function which  will be able to print an index of list element without using an index function"
   ]
  },
  {
   "cell_type": "code",
   "execution_count": 6,
   "id": "efbdbc80",
   "metadata": {},
   "outputs": [],
   "source": [
    " l = [3.5, 6.56,4,5,\"sudh\" , \"ineuron\" , 'p 2.0']"
   ]
  },
  {
   "cell_type": "code",
   "execution_count": 9,
   "id": "75cad19b",
   "metadata": {},
   "outputs": [
    {
     "data": {
      "text/plain": [
       "6.56"
      ]
     },
     "execution_count": 9,
     "metadata": {},
     "output_type": "execute_result"
    }
   ],
   "source": [
    "l[1]"
   ]
  },
  {
   "cell_type": "code",
   "execution_count": 10,
   "id": "ed1d1a54",
   "metadata": {},
   "outputs": [],
   "source": [
    "def test1(li):\n",
    "    for i in range(0,len(li)):\n",
    "        print(li[i],\":\",i)\n",
    "    "
   ]
  },
  {
   "cell_type": "code",
   "execution_count": 11,
   "id": "59915372",
   "metadata": {},
   "outputs": [
    {
     "name": "stdout",
     "output_type": "stream",
     "text": [
      "3.5 : 0\n",
      "6.56 : 1\n",
      "4 : 2\n",
      "5 : 3\n",
      "sudh : 4\n",
      "ineuron : 5\n",
      "fsda bootcamp 2.0 : 6\n"
     ]
    }
   ],
   "source": [
    "test1(l)"
   ]
  },
  {
   "cell_type": "code",
   "execution_count": 14,
   "id": "c4a832bc",
   "metadata": {},
   "outputs": [],
   "source": [
    "def test1(li):\n",
    "    for i in range(0,test(li)):\n",
    "        print(li[i],\":\",i)"
   ]
  },
  {
   "cell_type": "code",
   "execution_count": 17,
   "id": "7c714538",
   "metadata": {},
   "outputs": [],
   "source": [
    "test1(l)"
   ]
  },
  {
   "cell_type": "code",
   "execution_count": null,
   "id": "50efefe3",
   "metadata": {},
   "outputs": [],
   "source": [
    "#3. write a function which will be able to print an ip address of your system"
   ]
  },
  {
   "cell_type": "code",
   "execution_count": 24,
   "id": "efde1128",
   "metadata": {},
   "outputs": [],
   "source": [
    "import socket\n",
    "def test2():\n",
    "    ip = socket.gethostbyname(socket.gethostname())\n",
    "    return ip"
   ]
  },
  {
   "cell_type": "code",
   "execution_count": 25,
   "id": "a4b11565",
   "metadata": {},
   "outputs": [
    {
     "data": {
      "text/plain": [
       "'192.168.118.189'"
      ]
     },
     "execution_count": 25,
     "metadata": {},
     "output_type": "execute_result"
    }
   ],
   "source": [
    "test2()"
   ]
  },
  {
   "cell_type": "code",
   "execution_count": null,
   "id": "57c0f860",
   "metadata": {},
   "outputs": [],
   "source": [
    "#4. write a function which will shutdown your system"
   ]
  },
  {
   "cell_type": "code",
   "execution_count": 26,
   "id": "f450bae3",
   "metadata": {},
   "outputs": [],
   "source": [
    "import os\n",
    "os.system(\"shutdown /r /t 4\")\n",
    "\n",
    "#/s - shutdown\n",
    "# /r - resart \n",
    "# /t 1 - timer "
   ]
  },
  {
   "cell_type": "code",
   "execution_count": null,
   "id": "a402e5e8",
   "metadata": {},
   "outputs": [],
   "source": [
    "#5. write a function which will take input as a list with any kind of numeric value and give an out as a multiplication of \n",
    "# all the numeric data l = [3.5, 6.56, 4,5,\"sudh\" , \"ineuron\" , 'fsda bootcamp 2.0']"
   ]
  },
  {
   "cell_type": "code",
   "execution_count": 37,
   "id": "7bdfe6cd",
   "metadata": {},
   "outputs": [],
   "source": [
    "l = [3.5, 6.56,4,5,\"sudh\" , \"ineuron\" , 'fsda bootcamp 2.0']\n",
    "def test3(l):\n",
    "    mul = 1\n",
    "    for i in l: \n",
    "        if type(i) == int or type(i)== float:\n",
    "            mul = mul*i\n",
    "    return mul\n",
    "        "
   ]
  },
  {
   "cell_type": "code",
   "execution_count": 38,
   "id": "61b20d2a",
   "metadata": {},
   "outputs": [
    {
     "data": {
      "text/plain": [
       "459.19999999999993"
      ]
     },
     "execution_count": 38,
     "metadata": {},
     "output_type": "execute_result"
    }
   ],
   "source": [
    "test3(l)"
   ]
  },
  {
   "cell_type": "code",
   "execution_count": null,
   "id": "224058df",
   "metadata": {},
   "outputs": [],
   "source": [
    "#6. write a function which will be able to read all the mails"
   ]
  },
  {
   "cell_type": "code",
   "execution_count": 47,
   "id": "8dbd4a47",
   "metadata": {},
   "outputs": [
    {
     "name": "stdout",
     "output_type": "stream",
     "text": [
      "From : Google <no-reply@accounts.google.com>\n",
      "\n",
      "Subject : Security alert\n",
      "\n",
      "From : Angel One <Connect@angelbroking.in>\n",
      "\n",
      "Subject : =?UTF-8?Q?=F0=9F=91=80_Salary_Day_Stock_Advice_Tomorrow?=\n",
      "\n"
     ]
    },
    {
     "ename": "NameError",
     "evalue": "name 'traceback' is not defined",
     "output_type": "error",
     "traceback": [
      "\u001b[1;31m---------------------------------------------------------------------------\u001b[0m",
      "\u001b[1;31mUnicodeDecodeError\u001b[0m                        Traceback (most recent call last)",
      "\u001b[1;32m~\\AppData\\Local\\Temp/ipykernel_11316/1014008132.py\u001b[0m in \u001b[0;36mread_email_from_gmail\u001b[1;34m()\u001b[0m\n\u001b[0;32m     28\u001b[0m                 \u001b[1;32mif\u001b[0m \u001b[0misinstance\u001b[0m\u001b[1;33m(\u001b[0m\u001b[0marr\u001b[0m\u001b[1;33m,\u001b[0m \u001b[0mtuple\u001b[0m\u001b[1;33m)\u001b[0m\u001b[1;33m:\u001b[0m\u001b[1;33m\u001b[0m\u001b[1;33m\u001b[0m\u001b[0m\n\u001b[1;32m---> 29\u001b[1;33m                     \u001b[0mmsg\u001b[0m \u001b[1;33m=\u001b[0m \u001b[0memail\u001b[0m\u001b[1;33m.\u001b[0m\u001b[0mmessage_from_string\u001b[0m\u001b[1;33m(\u001b[0m\u001b[0mstr\u001b[0m\u001b[1;33m(\u001b[0m\u001b[0marr\u001b[0m\u001b[1;33m[\u001b[0m\u001b[1;36m1\u001b[0m\u001b[1;33m]\u001b[0m\u001b[1;33m,\u001b[0m\u001b[1;34m'utf-8'\u001b[0m\u001b[1;33m)\u001b[0m\u001b[1;33m)\u001b[0m\u001b[1;33m\u001b[0m\u001b[1;33m\u001b[0m\u001b[0m\n\u001b[0m\u001b[0;32m     30\u001b[0m                     \u001b[0memail_subject\u001b[0m \u001b[1;33m=\u001b[0m \u001b[0mmsg\u001b[0m\u001b[1;33m[\u001b[0m\u001b[1;34m'subject'\u001b[0m\u001b[1;33m]\u001b[0m\u001b[1;33m\u001b[0m\u001b[1;33m\u001b[0m\u001b[0m\n",
      "\u001b[1;31mUnicodeDecodeError\u001b[0m: 'utf-8' codec can't decode byte 0xa0 in position 7157: invalid start byte",
      "\nDuring handling of the above exception, another exception occurred:\n",
      "\u001b[1;31mNameError\u001b[0m                                 Traceback (most recent call last)",
      "\u001b[1;32m~\\AppData\\Local\\Temp/ipykernel_11316/1014008132.py\u001b[0m in \u001b[0;36m<module>\u001b[1;34m\u001b[0m\n\u001b[0;32m     37\u001b[0m         \u001b[0mprint\u001b[0m\u001b[1;33m(\u001b[0m\u001b[0mstr\u001b[0m\u001b[1;33m(\u001b[0m\u001b[0me\u001b[0m\u001b[1;33m)\u001b[0m\u001b[1;33m)\u001b[0m\u001b[1;33m\u001b[0m\u001b[1;33m\u001b[0m\u001b[0m\n\u001b[0;32m     38\u001b[0m \u001b[1;33m\u001b[0m\u001b[0m\n\u001b[1;32m---> 39\u001b[1;33m \u001b[0mread_email_from_gmail\u001b[0m\u001b[1;33m(\u001b[0m\u001b[1;33m)\u001b[0m\u001b[1;33m\u001b[0m\u001b[1;33m\u001b[0m\u001b[0m\n\u001b[0m",
      "\u001b[1;32m~\\AppData\\Local\\Temp/ipykernel_11316/1014008132.py\u001b[0m in \u001b[0;36mread_email_from_gmail\u001b[1;34m()\u001b[0m\n\u001b[0;32m     34\u001b[0m \u001b[1;33m\u001b[0m\u001b[0m\n\u001b[0;32m     35\u001b[0m     \u001b[1;32mexcept\u001b[0m \u001b[0mException\u001b[0m \u001b[1;32mas\u001b[0m \u001b[0me\u001b[0m\u001b[1;33m:\u001b[0m\u001b[1;33m\u001b[0m\u001b[1;33m\u001b[0m\u001b[0m\n\u001b[1;32m---> 36\u001b[1;33m         \u001b[0mtraceback\u001b[0m\u001b[1;33m.\u001b[0m\u001b[0mprint_exc\u001b[0m\u001b[1;33m(\u001b[0m\u001b[1;33m)\u001b[0m\u001b[1;33m\u001b[0m\u001b[1;33m\u001b[0m\u001b[0m\n\u001b[0m\u001b[0;32m     37\u001b[0m         \u001b[0mprint\u001b[0m\u001b[1;33m(\u001b[0m\u001b[0mstr\u001b[0m\u001b[1;33m(\u001b[0m\u001b[0me\u001b[0m\u001b[1;33m)\u001b[0m\u001b[1;33m)\u001b[0m\u001b[1;33m\u001b[0m\u001b[1;33m\u001b[0m\u001b[0m\n\u001b[0;32m     38\u001b[0m \u001b[1;33m\u001b[0m\u001b[0m\n",
      "\u001b[1;31mNameError\u001b[0m: name 'traceback' is not defined"
     ]
    }
   ],
   "source": [
    "import smtplib\n",
    "import time\n",
    "import imaplib\n",
    "import email\n",
    "ORG_EMAIL = \"@gmail.com\" \n",
    "FROM_EMAIL = 'rajuniradi@gmail.com'\n",
    "FROM_PWD = 'jivjrnilknqyqznj'\n",
    "SMTP_SERVER = \"imap.gmail.com\" \n",
    "SMTP_PORT = 993\n",
    "imaplib._MAXLINE = 400000000\n",
    "\n",
    "def read_email_from_gmail():\n",
    "    try:\n",
    "        mail = imaplib.IMAP4_SSL(SMTP_SERVER)\n",
    "        mail.login(FROM_EMAIL,FROM_PWD)\n",
    "        mail.select('inbox')\n",
    "\n",
    "        data = mail.search(None, 'ALL')\n",
    "        mail_ids = data[1]\n",
    "        id_list = mail_ids[0].split()   \n",
    "        first_email_id = int(id_list[0])\n",
    "        latest_email_id = int(id_list[-1])\n",
    "\n",
    "        for i in range(latest_email_id,first_email_id, -1):\n",
    "            data = mail.fetch(str(i), '(RFC822)' )\n",
    "            for response_part in data:\n",
    "                arr = response_part[0]\n",
    "                if isinstance(arr, tuple):\n",
    "                    msg = email.message_from_string(str(arr[1],'utf-8'))\n",
    "                    email_subject = msg['subject']\n",
    "                    email_from = msg['from']\n",
    "                    print('From : ' + email_from + '\\n')\n",
    "                    print('Subject : ' + email_subject + '\\n')\n",
    "\n",
    "    except Exception as e:\n",
    "        traceback.print_exc() \n",
    "        print(str(e))\n",
    "\n",
    "read_email_from_gmail()"
   ]
  },
  {
   "cell_type": "code",
   "execution_count": null,
   "id": "87a11d7b",
   "metadata": {},
   "outputs": [],
   "source": [
    "#7 . write a function which will be able to send a mail to anyone "
   ]
  },
  {
   "cell_type": "code",
   "execution_count": 43,
   "id": "59f05211",
   "metadata": {},
   "outputs": [],
   "source": [
    "import smtplib , ssl\n",
    "port = 465  # For SSL\n",
    "smtp_server = \"smtp.gmail.com\"\n",
    "sender_email = \"rajuniradi@gmail.com\"  # Enter your address\n",
    "receiver_email = \"rajuniradi@yahoo.com\"  # Enter receiver address\n",
    "password = 'jivjrnilknqyqznj'\n",
    "message = \"\"\"this is my message from python code \"\"\"\n",
    "\n",
    "context = ssl.create_default_context()\n",
    "with smtplib.SMTP_SSL(smtp_server, port, context=context) as server:\n",
    "    server.login(sender_email, password)\n",
    "    server.sendmail(sender_email, receiver_email, message)\n"
   ]
  },
  {
   "cell_type": "code",
   "execution_count": null,
   "id": "973362ad",
   "metadata": {},
   "outputs": [],
   "source": [
    "# 8. write a function which will be able to read a doc/word file from your system \n"
   ]
  },
  {
   "cell_type": "code",
   "execution_count": 48,
   "id": "51f2ce46",
   "metadata": {},
   "outputs": [
    {
     "ename": "ModuleNotFoundError",
     "evalue": "No module named 'docx2txt'",
     "output_type": "error",
     "traceback": [
      "\u001b[1;31m---------------------------------------------------------------------------\u001b[0m",
      "\u001b[1;31mModuleNotFoundError\u001b[0m                       Traceback (most recent call last)",
      "\u001b[1;32m~\\AppData\\Local\\Temp/ipykernel_11316/81345884.py\u001b[0m in \u001b[0;36m<module>\u001b[1;34m\u001b[0m\n\u001b[1;32m----> 1\u001b[1;33m \u001b[1;32mimport\u001b[0m \u001b[0mdocx2txt\u001b[0m\u001b[1;33m\u001b[0m\u001b[1;33m\u001b[0m\u001b[0m\n\u001b[0m",
      "\u001b[1;31mModuleNotFoundError\u001b[0m: No module named 'docx2txt'"
     ]
    }
   ],
   "source": [
    "import docx2txt"
   ]
  },
  {
   "cell_type": "code",
   "execution_count": 49,
   "id": "04104392",
   "metadata": {},
   "outputs": [
    {
     "name": "stdout",
     "output_type": "stream",
     "text": [
      "Collecting docx2txt\n",
      "  Downloading docx2txt-0.8.tar.gz (2.8 kB)\n",
      "Building wheels for collected packages: docx2txt\n",
      "  Building wheel for docx2txt (setup.py): started\n",
      "  Building wheel for docx2txt (setup.py): finished with status 'done'\n",
      "  Created wheel for docx2txt: filename=docx2txt-0.8-py3-none-any.whl size=3980 sha256=ec94e0db4e0db981cc3889affc7a880eaa9f1dba7ffa7d24525c23058c89d533\n",
      "  Stored in directory: c:\\users\\rajun\\appdata\\local\\pip\\cache\\wheels\\40\\75\\01\\e6c444034338bde9c7947d3467807f889123465c2371e77418\n",
      "Successfully built docx2txt\n",
      "Installing collected packages: docx2txt\n",
      "Successfully installed docx2txt-0.8\n",
      "Note: you may need to restart the kernel to use updated packages.\n"
     ]
    }
   ],
   "source": [
    "pip install docx2txt"
   ]
  },
  {
   "cell_type": "code",
   "execution_count": 51,
   "id": "993103b6",
   "metadata": {},
   "outputs": [
    {
     "ename": "FileNotFoundError",
     "evalue": "[Errno 2] No such file or directory: 'Resume_307902.docx'",
     "output_type": "error",
     "traceback": [
      "\u001b[1;31m---------------------------------------------------------------------------\u001b[0m",
      "\u001b[1;31mFileNotFoundError\u001b[0m                         Traceback (most recent call last)",
      "\u001b[1;32m~\\AppData\\Local\\Temp/ipykernel_11316/3766964155.py\u001b[0m in \u001b[0;36m<module>\u001b[1;34m\u001b[0m\n\u001b[0;32m      1\u001b[0m \u001b[1;32mimport\u001b[0m \u001b[0mdocx2txt\u001b[0m\u001b[1;33m\u001b[0m\u001b[1;33m\u001b[0m\u001b[0m\n\u001b[1;32m----> 2\u001b[1;33m \u001b[0ma\u001b[0m \u001b[1;33m=\u001b[0m \u001b[0mdocx2txt\u001b[0m\u001b[1;33m.\u001b[0m\u001b[0mprocess\u001b[0m\u001b[1;33m(\u001b[0m\u001b[1;34m\"Resume_307902.docx\"\u001b[0m\u001b[1;33m)\u001b[0m\u001b[1;33m\u001b[0m\u001b[1;33m\u001b[0m\u001b[0m\n\u001b[0m\u001b[0;32m      3\u001b[0m \u001b[0mprint\u001b[0m \u001b[1;33m(\u001b[0m\u001b[0ma\u001b[0m\u001b[1;33m)\u001b[0m\u001b[1;33m\u001b[0m\u001b[1;33m\u001b[0m\u001b[0m\n",
      "\u001b[1;32m~\\anaconda3\\lib\\site-packages\\docx2txt\\docx2txt.py\u001b[0m in \u001b[0;36mprocess\u001b[1;34m(docx, img_dir)\u001b[0m\n\u001b[0;32m     74\u001b[0m \u001b[1;33m\u001b[0m\u001b[0m\n\u001b[0;32m     75\u001b[0m     \u001b[1;31m# unzip the docx in memory\u001b[0m\u001b[1;33m\u001b[0m\u001b[1;33m\u001b[0m\u001b[0m\n\u001b[1;32m---> 76\u001b[1;33m     \u001b[0mzipf\u001b[0m \u001b[1;33m=\u001b[0m \u001b[0mzipfile\u001b[0m\u001b[1;33m.\u001b[0m\u001b[0mZipFile\u001b[0m\u001b[1;33m(\u001b[0m\u001b[0mdocx\u001b[0m\u001b[1;33m)\u001b[0m\u001b[1;33m\u001b[0m\u001b[1;33m\u001b[0m\u001b[0m\n\u001b[0m\u001b[0;32m     77\u001b[0m     \u001b[0mfilelist\u001b[0m \u001b[1;33m=\u001b[0m \u001b[0mzipf\u001b[0m\u001b[1;33m.\u001b[0m\u001b[0mnamelist\u001b[0m\u001b[1;33m(\u001b[0m\u001b[1;33m)\u001b[0m\u001b[1;33m\u001b[0m\u001b[1;33m\u001b[0m\u001b[0m\n\u001b[0;32m     78\u001b[0m \u001b[1;33m\u001b[0m\u001b[0m\n",
      "\u001b[1;32m~\\anaconda3\\lib\\zipfile.py\u001b[0m in \u001b[0;36m__init__\u001b[1;34m(self, file, mode, compression, allowZip64, compresslevel, strict_timestamps)\u001b[0m\n\u001b[0;32m   1237\u001b[0m             \u001b[1;32mwhile\u001b[0m \u001b[1;32mTrue\u001b[0m\u001b[1;33m:\u001b[0m\u001b[1;33m\u001b[0m\u001b[1;33m\u001b[0m\u001b[0m\n\u001b[0;32m   1238\u001b[0m                 \u001b[1;32mtry\u001b[0m\u001b[1;33m:\u001b[0m\u001b[1;33m\u001b[0m\u001b[1;33m\u001b[0m\u001b[0m\n\u001b[1;32m-> 1239\u001b[1;33m                     \u001b[0mself\u001b[0m\u001b[1;33m.\u001b[0m\u001b[0mfp\u001b[0m \u001b[1;33m=\u001b[0m \u001b[0mio\u001b[0m\u001b[1;33m.\u001b[0m\u001b[0mopen\u001b[0m\u001b[1;33m(\u001b[0m\u001b[0mfile\u001b[0m\u001b[1;33m,\u001b[0m \u001b[0mfilemode\u001b[0m\u001b[1;33m)\u001b[0m\u001b[1;33m\u001b[0m\u001b[1;33m\u001b[0m\u001b[0m\n\u001b[0m\u001b[0;32m   1240\u001b[0m                 \u001b[1;32mexcept\u001b[0m \u001b[0mOSError\u001b[0m\u001b[1;33m:\u001b[0m\u001b[1;33m\u001b[0m\u001b[1;33m\u001b[0m\u001b[0m\n\u001b[0;32m   1241\u001b[0m                     \u001b[1;32mif\u001b[0m \u001b[0mfilemode\u001b[0m \u001b[1;32min\u001b[0m \u001b[0mmodeDict\u001b[0m\u001b[1;33m:\u001b[0m\u001b[1;33m\u001b[0m\u001b[1;33m\u001b[0m\u001b[0m\n",
      "\u001b[1;31mFileNotFoundError\u001b[0m: [Errno 2] No such file or directory: 'Resume_307902.docx'"
     ]
    }
   ],
   "source": [
    "import docx2txt\n",
    "a = docx2txt.process(\"Resume_307902.docx\")\n",
    "print (a)"
   ]
  },
  {
   "cell_type": "code",
   "execution_count": null,
   "id": "3606179e",
   "metadata": {},
   "outputs": [],
   "source": []
  },
  {
   "cell_type": "code",
   "execution_count": null,
   "id": "b95915bb",
   "metadata": {},
   "outputs": [],
   "source": []
  }
 ],
 "metadata": {
  "kernelspec": {
   "display_name": "Python 3 (ipykernel)",
   "language": "python",
   "name": "python3"
  },
  "language_info": {
   "codemirror_mode": {
    "name": "ipython",
    "version": 3
   },
   "file_extension": ".py",
   "mimetype": "text/x-python",
   "name": "python",
   "nbconvert_exporter": "python",
   "pygments_lexer": "ipython3",
   "version": "3.9.7"
  }
 },
 "nbformat": 4,
 "nbformat_minor": 5
}
