{
  "nbformat": 4,
  "nbformat_minor": 0,
  "metadata": {
    "colab": {
      "provenance": [],
      "authorship_tag": "ABX9TyNVMcKPHPxIaLlN4SImB0sY",
      "include_colab_link": true
    },
    "kernelspec": {
      "name": "python3",
      "display_name": "Python 3"
    },
    "language_info": {
      "name": "python"
    }
  },
  "cells": [
    {
      "cell_type": "markdown",
      "metadata": {
        "id": "view-in-github",
        "colab_type": "text"
      },
      "source": [
        "<a href=\"https://colab.research.google.com/github/Raju057/Python-basics/blob/main/user_input.ipynb\" target=\"_parent\"><img src=\"https://colab.research.google.com/assets/colab-badge.svg\" alt=\"Open In Colab\"/></a>"
      ]
    },
    {
      "cell_type": "markdown",
      "source": [
        "1. Find out all the types of error that we have encountered in our lecture and why? Also include the examples.\n",
        "2. Take input A and B and print their sum, mul, div, square of the nos.\n",
        "3. How many reserve keywords are there in python and why we should not use them as a variable name.\n",
        "4. Create email ids with the user inputs. in the following format - \n",
        "lastname.firstname@gmail.com\n",
        "5. Try to print the following lines - \n",
        "  - Hi I'm Sunny\n",
        "  - My address is 22\\3 \n",
        "  - I earn 20$ daily.\n",
        "6. Take user input (name, address, date of birth etc) to fill a form for your college and print their email IDs\n",
        "7. Convert the following - \n",
        "  - \"22.4\" into integer\n",
        "  - \"22\" into complex no."
      ],
      "metadata": {
        "id": "Z6E8o3JAU8I9"
      }
    },
    {
      "cell_type": "code",
      "execution_count": 15,
      "metadata": {
        "colab": {
          "base_uri": "https://localhost:8080/"
        },
        "id": "wCDLAbdfS2Dz",
        "outputId": "41cb70b2-127c-496c-8c09-488ca1c04fbc"
      },
      "outputs": [
        {
          "output_type": "stream",
          "name": "stdout",
          "text": [
            "enter the value of a: 2\n",
            "enter the value of b: 2\n",
            "\n",
            "addtion of a and b:4\n",
            "multification of a and b :4\n",
            "division of a and b:1.0\n",
            "sqare of a and b:4\n"
          ]
        }
      ],
      "source": [
        "a = int(input(\"enter the value of a: \"))\n",
        "b = int(input(\"enter the value of b: \"))\n",
        "print(f\"\"\"\n",
        "addtion of a and b:{a+b}\n",
        "multification of a and b :{a*b}\n",
        "division of a and b:{a/b}\n",
        "sqare of a and b:{a**2}\"\"\")\n"
      ]
    },
    {
      "cell_type": "code",
      "source": [
        "\n",
        "first_name = input((\"enter first_name:\"))\n",
        "last_name = input((\"enter last_name:\"))\n",
        "print(f\"Your mail id:{last_name}.{first_name}@gmail.com\")"
      ],
      "metadata": {
        "colab": {
          "base_uri": "https://localhost:8080/"
        },
        "id": "KaxbQdkXUAjT",
        "outputId": "e4a11133-0480-4a17-8da1-1a6f986f902d"
      },
      "execution_count": 21,
      "outputs": [
        {
          "output_type": "stream",
          "name": "stdout",
          "text": [
            "enter first_name:ra\n",
            "enter last_name:ju\n",
            "Your mail id:ju.ra@gmail.com\n"
          ]
        }
      ]
    },
    {
      "cell_type": "code",
      "source": [
        "\n",
        "\n",
        "name = input(\"name:\")\n",
        "address = input(\"address:\")\n",
        "earn = input(\"earn:\")\n",
        "print(f\"\"\"\n",
        "Hi I'm {name}\n",
        "My address {address}\n",
        "I earn {earn}$\"\"\")"
      ],
      "metadata": {
        "colab": {
          "base_uri": "https://localhost:8080/"
        },
        "id": "EuAjePQYaTXO",
        "outputId": "a0bc8b5c-9865-4e39-9080-bb313640cfd0"
      },
      "execution_count": 28,
      "outputs": [
        {
          "output_type": "stream",
          "name": "stdout",
          "text": [
            "name:sunny\n",
            "address:22/3\n",
            "earn:20\n",
            "\n",
            "Hi I'm sunny\n",
            "My address 22/3\n",
            "I earn 20$\n"
          ]
        }
      ]
    },
    {
      "cell_type": "code",
      "source": [
        "name = input(\"name:\")\n",
        "address = input(\"address:\")\n",
        "date_of_birth = input(\"date_of_birth:\")\n",
        "mail_id = input (\"mail id:\")\n",
        "print(f\"\"\"\n",
        "name:{name}\n",
        "address:{address}\n",
        "date_of_birth(dd.mm.yyyy):{date_of_birth}\n",
        "mail_id:{mail_id}\"\"\")"
      ],
      "metadata": {
        "colab": {
          "base_uri": "https://localhost:8080/"
        },
        "id": "sfJn1Ssmdsx7",
        "outputId": "08a5d054-fe1a-460b-95c7-ebb938afe1d9"
      },
      "execution_count": 39,
      "outputs": [
        {
          "output_type": "stream",
          "name": "stdout",
          "text": [
            "name:raju\n",
            "address:21\n",
            "date_of_birth:11.12.2021\n",
            "mail id:raju\n",
            "\n",
            "name:raju\n",
            "address:21\n",
            "date_of_birth(dd.mm.yyyy):11.12.2021\n",
            "mail_id:raju\n"
          ]
        }
      ]
    },
    {
      "cell_type": "code",
      "source": [],
      "metadata": {
        "id": "ELNhEhK2iTRI"
      },
      "execution_count": 32,
      "outputs": []
    }
  ]
}