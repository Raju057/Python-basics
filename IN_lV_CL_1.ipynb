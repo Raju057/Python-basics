{
  "nbformat": 4,
  "nbformat_minor": 0,
  "metadata": {
    "colab": {
      "provenance": [],
      "authorship_tag": "ABX9TyN/1XacpR564zGCOw+LSDlA",
      "include_colab_link": true
    },
    "kernelspec": {
      "name": "python3",
      "display_name": "Python 3"
    },
    "language_info": {
      "name": "python"
    }
  },
  "cells": [
    {
      "cell_type": "markdown",
      "metadata": {
        "id": "view-in-github",
        "colab_type": "text"
      },
      "source": [
        "<a href=\"https://colab.research.google.com/github/Raju057/Python-basics/blob/main/IN_lV_CL_1.ipynb\" target=\"_parent\"><img src=\"https://colab.research.google.com/assets/colab-badge.svg\" alt=\"Open In Colab\"/></a>"
      ]
    },
    {
      "cell_type": "code",
      "execution_count": 1,
      "metadata": {
        "colab": {
          "base_uri": "https://localhost:8080/"
        },
        "id": "2yR_xzv3CN8o",
        "outputId": "75382c8c-8ab3-45c4-a121-52d4f1e45a41"
      },
      "outputs": [
        {
          "output_type": "stream",
          "name": "stdout",
          "text": [
            "Hi Raju\n"
          ]
        }
      ],
      "source": [
        "print(\"Hi Raju\")"
      ]
    },
    {
      "cell_type": "code",
      "source": [
        "#Variable : \n",
        "#1.Variable names should starts with alphabets.\n",
        "#2.Variable names should not contain any special characters like ^ % $ () #!\n",
        "#3.Variable names contain nubers but not start with numbers\n"
      ],
      "metadata": {
        "id": "FMHf1PqrCip3"
      },
      "execution_count": 9,
      "outputs": []
    },
    {
      "cell_type": "markdown",
      "source": [
        "Variable : \n",
        "###1.Variable names should starts with alphabets.\n",
        "###2.Variable names should not contain any special characters like ^ % $ () #!\n",
        "###3.Variable names contain nubers but not start with numbers\n"
      ],
      "metadata": {
        "id": "eD_U8Qw7Jr5c"
      }
    },
    {
      "cell_type": "code",
      "source": [
        "a = 10"
      ],
      "metadata": {
        "id": "OU1KRX8nHvk1"
      },
      "execution_count": 5,
      "outputs": []
    },
    {
      "cell_type": "code",
      "source": [
        "a"
      ],
      "metadata": {
        "colab": {
          "base_uri": "https://localhost:8080/"
        },
        "id": "Vvfw_kI1ITG9",
        "outputId": "b71d662c-a47c-433f-f227-e3b74ee6d33d"
      },
      "execution_count": 6,
      "outputs": [
        {
          "output_type": "execute_result",
          "data": {
            "text/plain": [
              "10"
            ]
          },
          "metadata": {},
          "execution_count": 6
        }
      ]
    },
    {
      "cell_type": "code",
      "source": [
        "b = 20"
      ],
      "metadata": {
        "id": "O3PeDNdJIUgA"
      },
      "execution_count": 7,
      "outputs": []
    },
    {
      "cell_type": "code",
      "source": [
        "b"
      ],
      "metadata": {
        "colab": {
          "base_uri": "https://localhost:8080/"
        },
        "id": "oXCNY94zIbDW",
        "outputId": "1a43ae58-9a2f-402d-e7ff-3e29425f822a"
      },
      "execution_count": 8,
      "outputs": [
        {
          "output_type": "execute_result",
          "data": {
            "text/plain": [
              "20"
            ]
          },
          "metadata": {},
          "execution_count": 8
        }
      ]
    },
    {
      "cell_type": "code",
      "source": [
        "_ = 10 #dummy variable"
      ],
      "metadata": {
        "id": "XANe1mshIcHZ"
      },
      "execution_count": 10,
      "outputs": []
    },
    {
      "cell_type": "markdown",
      "source": [
        "#Fundamental data types"
      ],
      "metadata": {
        "id": "jO7XqhNlQQ14"
      }
    },
    {
      "cell_type": "code",
      "source": [],
      "metadata": {
        "id": "DCWXqAeRQXUW"
      },
      "execution_count": null,
      "outputs": []
    },
    {
      "cell_type": "markdown",
      "source": [
        "#intergers "
      ],
      "metadata": {
        "id": "-TPvyST6Qkzm"
      }
    },
    {
      "cell_type": "code",
      "source": [
        "a = 7"
      ],
      "metadata": {
        "id": "Z_ML3aoiQnqD"
      },
      "execution_count": 11,
      "outputs": []
    },
    {
      "cell_type": "code",
      "source": [
        "type(a)"
      ],
      "metadata": {
        "colab": {
          "base_uri": "https://localhost:8080/"
        },
        "id": "wlinZlN6QqHG",
        "outputId": "66cae49a-3e4f-4c53-f378-6ff0f4e67e81"
      },
      "execution_count": 12,
      "outputs": [
        {
          "output_type": "execute_result",
          "data": {
            "text/plain": [
              "int"
            ]
          },
          "metadata": {},
          "execution_count": 12
        }
      ]
    },
    {
      "cell_type": "code",
      "source": [],
      "metadata": {
        "id": "rEmI5ZFuQt79"
      },
      "execution_count": null,
      "outputs": []
    },
    {
      "cell_type": "markdown",
      "source": [
        "##Flots- number containig decimals number "
      ],
      "metadata": {
        "id": "iCJJMu56Q0fo"
      }
    },
    {
      "cell_type": "code",
      "source": [
        "pi = 3.142"
      ],
      "metadata": {
        "id": "7wgEwOXYQ6xW"
      },
      "execution_count": 13,
      "outputs": []
    },
    {
      "cell_type": "code",
      "source": [
        "type(pi)"
      ],
      "metadata": {
        "colab": {
          "base_uri": "https://localhost:8080/"
        },
        "id": "iWIlss23Q-Az",
        "outputId": "899683f1-c910-4953-dff8-af074db27ff8"
      },
      "execution_count": 14,
      "outputs": [
        {
          "output_type": "execute_result",
          "data": {
            "text/plain": [
              "float"
            ]
          },
          "metadata": {},
          "execution_count": 14
        }
      ]
    },
    {
      "cell_type": "code",
      "source": [
        "x = 2.0"
      ],
      "metadata": {
        "id": "xq-fC1K0Q_qq"
      },
      "execution_count": 16,
      "outputs": []
    },
    {
      "cell_type": "code",
      "source": [
        "type(x)"
      ],
      "metadata": {
        "colab": {
          "base_uri": "https://localhost:8080/"
        },
        "id": "mkGorGcgRJcE",
        "outputId": "5f9593ea-d7d0-423e-9250-b19a5c208399"
      },
      "execution_count": 17,
      "outputs": [
        {
          "output_type": "execute_result",
          "data": {
            "text/plain": [
              "float"
            ]
          },
          "metadata": {},
          "execution_count": 17
        }
      ]
    },
    {
      "cell_type": "code",
      "source": [
        "a =2+3j"
      ],
      "metadata": {
        "id": "JKy4ZCdxRNUo"
      },
      "execution_count": 18,
      "outputs": []
    },
    {
      "cell_type": "code",
      "source": [
        "type(a)"
      ],
      "metadata": {
        "colab": {
          "base_uri": "https://localhost:8080/"
        },
        "id": "zywbBWw_SrTY",
        "outputId": "64868eaf-43d4-446e-a5e4-32c83bc0de34"
      },
      "execution_count": 19,
      "outputs": [
        {
          "output_type": "execute_result",
          "data": {
            "text/plain": [
              "complex"
            ]
          },
          "metadata": {},
          "execution_count": 19
        }
      ]
    },
    {
      "cell_type": "code",
      "source": [
        "a = 22\n",
        "print(type(a))\n",
        "a = 22.2\n",
        "print(type(a))\n"
      ],
      "metadata": {
        "colab": {
          "base_uri": "https://localhost:8080/"
        },
        "id": "4LMb2m7jStdA",
        "outputId": "a0ca9901-6798-4aee-b33e-5d37aa8998ae"
      },
      "execution_count": 20,
      "outputs": [
        {
          "output_type": "stream",
          "name": "stdout",
          "text": [
            "<class 'int'>\n",
            "<class 'float'>\n"
          ]
        }
      ]
    },
    {
      "cell_type": "code",
      "source": [
        "                                          "
      ],
      "metadata": {
        "id": "16WSTA2OT9vM"
      },
      "execution_count": null,
      "outputs": []
    },
    {
      "cell_type": "markdown",
      "source": [
        "##data types\n"
      ],
      "metadata": {
        "id": "C7rfhx1dUnKb"
      }
    },
    {
      "cell_type": "code",
      "source": [
        "a = 1 # Int data type\n",
        "b = 1.2 # float data type\n",
        "c = \"Raju\"# string data type\n",
        "f = 1+2j # complex data type\n",
        "c = True # Boolean data types"
      ],
      "metadata": {
        "id": "AbTPWRtOUyZa"
      },
      "execution_count": 24,
      "outputs": []
    },
    {
      "cell_type": "code",
      "source": [
        "type(c)"
      ],
      "metadata": {
        "colab": {
          "base_uri": "https://localhost:8080/"
        },
        "id": "lK2ERTn3Xu7N",
        "outputId": "876fb517-d087-4638-c749-40090b439717"
      },
      "execution_count": 25,
      "outputs": [
        {
          "output_type": "execute_result",
          "data": {
            "text/plain": [
              "bool"
            ]
          },
          "metadata": {},
          "execution_count": 25
        }
      ]
    },
    {
      "cell_type": "code",
      "source": [
        "class_start_at = 3\n",
        "you_came_at = 4\n",
        "you_understanad_everything = you_came_at < class_start_at \n",
        "print(f\"you understand everything?: {you_understanad_everything}\")"
      ],
      "metadata": {
        "colab": {
          "base_uri": "https://localhost:8080/"
        },
        "id": "9cZmwvJDVGxE",
        "outputId": "04efb3fc-56c8-45bc-ec6b-7e633865a9ae"
      },
      "execution_count": 29,
      "outputs": [
        {
          "output_type": "stream",
          "name": "stdout",
          "text": [
            "you understand everything?: False\n"
          ]
        }
      ]
    },
    {
      "cell_type": "code",
      "source": [],
      "metadata": {
        "colab": {
          "base_uri": "https://localhost:8080/"
        },
        "id": "i_ZsTTHpV9Dg",
        "outputId": "36ef8d52-7e9d-4bca-c6af-8f7321837b7c"
      },
      "execution_count": 26,
      "outputs": [
        {
          "output_type": "execute_result",
          "data": {
            "text/plain": [
              "1"
            ]
          },
          "metadata": {},
          "execution_count": 26
        }
      ]
    },
    {
      "cell_type": "code",
      "source": [],
      "metadata": {
        "id": "jTnqHWGTa6Op"
      },
      "execution_count": null,
      "outputs": []
    },
    {
      "cell_type": "code",
      "source": [
        "."
      ],
      "metadata": {
        "id": "ehxnHta4V935"
      },
      "execution_count": null,
      "outputs": []
    }
  ]
}