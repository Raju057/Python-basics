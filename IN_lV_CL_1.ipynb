{
  "nbformat": 4,
  "nbformat_minor": 0,
  "metadata": {
    "colab": {
      "provenance": [],
      "authorship_tag": "ABX9TyPVc0eVVhFsjsdlogm+UB5v",
      "include_colab_link": true
    },
    "kernelspec": {
      "name": "python3",
      "display_name": "Python 3"
    },
    "language_info": {
      "name": "python"
    }
  },
  "cells": [
    {
      "cell_type": "markdown",
      "metadata": {
        "id": "view-in-github",
        "colab_type": "text"
      },
      "source": [
        "<a href=\"https://colab.research.google.com/github/Raju057/Python-basics/blob/main/IN_lV_CL_1.ipynb\" target=\"_parent\"><img src=\"https://colab.research.google.com/assets/colab-badge.svg\" alt=\"Open In Colab\"/></a>"
      ]
    },
    {
      "cell_type": "code",
      "execution_count": null,
      "metadata": {
        "colab": {
          "base_uri": "https://localhost:8080/"
        },
        "id": "2yR_xzv3CN8o",
        "outputId": "e6a3ddec-e7c4-41c7-bb45-2875616d3f17"
      },
      "outputs": [
        {
          "output_type": "stream",
          "name": "stdout",
          "text": [
            "Hi Raju\n"
          ]
        }
      ],
      "source": [
        "print(\"Hi Raju\")"
      ]
    },
    {
      "cell_type": "code",
      "source": [
        "#Variable : \n",
        "#1.Variable names should starts with alphabets.\n",
        "#2.Variable names should not contain any special characters like ^ % $ () #!\n",
        "#3.Variable names contain nubers but not start with numbers\n"
      ],
      "metadata": {
        "id": "FMHf1PqrCip3"
      },
      "execution_count": null,
      "outputs": []
    },
    {
      "cell_type": "markdown",
      "source": [
        "Variable : \n",
        "###1.Variable names should starts with alphabets.\n",
        "###2.Variable names should not contain any special characters like ^ % $ () #!\n",
        "###3.Variable names contain nubers but not start with numbers\n"
      ],
      "metadata": {
        "id": "eD_U8Qw7Jr5c"
      }
    },
    {
      "cell_type": "code",
      "source": [
        "a = 10"
      ],
      "metadata": {
        "id": "OU1KRX8nHvk1"
      },
      "execution_count": null,
      "outputs": []
    },
    {
      "cell_type": "code",
      "source": [
        "a"
      ],
      "metadata": {
        "colab": {
          "base_uri": "https://localhost:8080/"
        },
        "id": "Vvfw_kI1ITG9",
        "outputId": "ebd638de-91dd-407a-9731-64c053a2fa7b"
      },
      "execution_count": null,
      "outputs": [
        {
          "output_type": "execute_result",
          "data": {
            "text/plain": [
              "10"
            ]
          },
          "metadata": {},
          "execution_count": 4
        }
      ]
    },
    {
      "cell_type": "code",
      "source": [
        "b = 20"
      ],
      "metadata": {
        "id": "O3PeDNdJIUgA"
      },
      "execution_count": null,
      "outputs": []
    },
    {
      "cell_type": "code",
      "source": [
        "b"
      ],
      "metadata": {
        "colab": {
          "base_uri": "https://localhost:8080/"
        },
        "id": "oXCNY94zIbDW",
        "outputId": "14a46e9a-279e-4b79-f047-023464cf0f2e"
      },
      "execution_count": null,
      "outputs": [
        {
          "output_type": "execute_result",
          "data": {
            "text/plain": [
              "20"
            ]
          },
          "metadata": {},
          "execution_count": 6
        }
      ]
    },
    {
      "cell_type": "code",
      "source": [
        "_ = 10 #dummy variable"
      ],
      "metadata": {
        "id": "XANe1mshIcHZ"
      },
      "execution_count": null,
      "outputs": []
    },
    {
      "cell_type": "markdown",
      "source": [
        "#Fundamental data types"
      ],
      "metadata": {
        "id": "jO7XqhNlQQ14"
      }
    },
    {
      "cell_type": "code",
      "source": [],
      "metadata": {
        "id": "DCWXqAeRQXUW"
      },
      "execution_count": null,
      "outputs": []
    },
    {
      "cell_type": "markdown",
      "source": [
        "#intergers "
      ],
      "metadata": {
        "id": "-TPvyST6Qkzm"
      }
    },
    {
      "cell_type": "code",
      "source": [
        "a = 7"
      ],
      "metadata": {
        "id": "Z_ML3aoiQnqD"
      },
      "execution_count": null,
      "outputs": []
    },
    {
      "cell_type": "code",
      "source": [
        "type(a)"
      ],
      "metadata": {
        "colab": {
          "base_uri": "https://localhost:8080/"
        },
        "id": "wlinZlN6QqHG",
        "outputId": "08d4ffb7-6a51-45e9-b3ad-9092ca5c5326"
      },
      "execution_count": null,
      "outputs": [
        {
          "output_type": "execute_result",
          "data": {
            "text/plain": [
              "int"
            ]
          },
          "metadata": {},
          "execution_count": 9
        }
      ]
    },
    {
      "cell_type": "code",
      "source": [],
      "metadata": {
        "id": "rEmI5ZFuQt79"
      },
      "execution_count": null,
      "outputs": []
    },
    {
      "cell_type": "markdown",
      "source": [
        "##Flots- number containig decimals number "
      ],
      "metadata": {
        "id": "iCJJMu56Q0fo"
      }
    },
    {
      "cell_type": "code",
      "source": [
        "pi = 3.142"
      ],
      "metadata": {
        "id": "7wgEwOXYQ6xW"
      },
      "execution_count": null,
      "outputs": []
    },
    {
      "cell_type": "code",
      "source": [
        "type(pi)"
      ],
      "metadata": {
        "colab": {
          "base_uri": "https://localhost:8080/"
        },
        "id": "iWIlss23Q-Az",
        "outputId": "31baa64e-1f41-43f5-b5f5-5aafaff16488"
      },
      "execution_count": null,
      "outputs": [
        {
          "output_type": "execute_result",
          "data": {
            "text/plain": [
              "float"
            ]
          },
          "metadata": {},
          "execution_count": 11
        }
      ]
    },
    {
      "cell_type": "code",
      "source": [
        "x = 2.0"
      ],
      "metadata": {
        "id": "xq-fC1K0Q_qq"
      },
      "execution_count": null,
      "outputs": []
    },
    {
      "cell_type": "code",
      "source": [
        "type(x)"
      ],
      "metadata": {
        "colab": {
          "base_uri": "https://localhost:8080/"
        },
        "id": "mkGorGcgRJcE",
        "outputId": "c128b2bb-46d8-4385-c656-cfbea59bfd70"
      },
      "execution_count": null,
      "outputs": [
        {
          "output_type": "execute_result",
          "data": {
            "text/plain": [
              "float"
            ]
          },
          "metadata": {},
          "execution_count": 13
        }
      ]
    },
    {
      "cell_type": "code",
      "source": [
        "a =2+3j"
      ],
      "metadata": {
        "id": "JKy4ZCdxRNUo"
      },
      "execution_count": null,
      "outputs": []
    },
    {
      "cell_type": "code",
      "source": [
        "type(a)"
      ],
      "metadata": {
        "colab": {
          "base_uri": "https://localhost:8080/"
        },
        "id": "zywbBWw_SrTY",
        "outputId": "6f91c607-55ff-4b20-8dc4-4aa23caf4d8b"
      },
      "execution_count": null,
      "outputs": [
        {
          "output_type": "execute_result",
          "data": {
            "text/plain": [
              "complex"
            ]
          },
          "metadata": {},
          "execution_count": 15
        }
      ]
    },
    {
      "cell_type": "code",
      "source": [
        "a = 22\n",
        "print(type(a))\n",
        "a = 22.2\n",
        "print(type(a))\n"
      ],
      "metadata": {
        "colab": {
          "base_uri": "https://localhost:8080/"
        },
        "id": "4LMb2m7jStdA",
        "outputId": "ae17c1d0-390e-4191-a8c1-a549ed709b68"
      },
      "execution_count": null,
      "outputs": [
        {
          "output_type": "stream",
          "name": "stdout",
          "text": [
            "<class 'int'>\n",
            "<class 'float'>\n"
          ]
        }
      ]
    },
    {
      "cell_type": "code",
      "source": [
        "                                          "
      ],
      "metadata": {
        "id": "16WSTA2OT9vM"
      },
      "execution_count": null,
      "outputs": []
    },
    {
      "cell_type": "markdown",
      "source": [
        "##data types\n"
      ],
      "metadata": {
        "id": "C7rfhx1dUnKb"
      }
    },
    {
      "cell_type": "code",
      "source": [
        "a = 1 # Int data type\n",
        "b = 1.2 # float data type\n",
        "c = \"Raju\"# string data type\n",
        "f = 1+2j # complex data type\n",
        "c = True # Boolean data types"
      ],
      "metadata": {
        "id": "AbTPWRtOUyZa"
      },
      "execution_count": null,
      "outputs": []
    },
    {
      "cell_type": "code",
      "source": [
        "type(c)"
      ],
      "metadata": {
        "colab": {
          "base_uri": "https://localhost:8080/"
        },
        "id": "lK2ERTn3Xu7N",
        "outputId": "9f4137d9-0bd7-4a5e-f8b0-a323b4921093"
      },
      "execution_count": null,
      "outputs": [
        {
          "output_type": "execute_result",
          "data": {
            "text/plain": [
              "bool"
            ]
          },
          "metadata": {},
          "execution_count": 18
        }
      ]
    },
    {
      "cell_type": "code",
      "source": [
        "class_start_at = 3\n",
        "you_came_at = 4\n",
        "you_understanad_everything = you_came_at < class_start_at \n",
        "print(f\"you understand everything?: {you_understanad_everything}\")"
      ],
      "metadata": {
        "colab": {
          "base_uri": "https://localhost:8080/"
        },
        "id": "9cZmwvJDVGxE",
        "outputId": "8e6342b6-44bf-4d90-ad2d-1ad8b64a5455"
      },
      "execution_count": null,
      "outputs": [
        {
          "output_type": "stream",
          "name": "stdout",
          "text": [
            "you understand everything?: False\n"
          ]
        }
      ]
    },
    {
      "cell_type": "code",
      "source": [],
      "metadata": {
        "id": "jTnqHWGTa6Op"
      },
      "execution_count": null,
      "outputs": []
    },
    {
      "cell_type": "markdown",
      "source": [
        "# Agenda\n",
        "1. variable case senstivity \n",
        "2. reserved words in python\n",
        "3. multi assignment of variables\n",
        "4. user input\n",
        "5. type casting/type conversion\n",
        "6. memory block\n",
        "7. operator\n",
        "*  logical\n",
        "*  Equity\n",
        "*  comparision \n",
        "*  \n",
        "\n"
      ],
      "metadata": {
        "id": "bncCPkc2JDzU"
      }
    },
    {
      "cell_type": "code",
      "source": [],
      "metadata": {
        "id": "ehxnHta4V935"
      },
      "execution_count": null,
      "outputs": []
    },
    {
      "cell_type": "markdown",
      "source": [
        "#variable case senstivity"
      ],
      "metadata": {
        "id": "wc-zjNyOJuzM"
      }
    },
    {
      "cell_type": "markdown",
      "source": [],
      "metadata": {
        "id": "5YEszAGEJs8X"
      }
    },
    {
      "cell_type": "code",
      "source": [
        "TEN = 10\n",
        "ten = 20 # TEN & ten both different variable names not same."
      ],
      "metadata": {
        "id": "KaEvhnlj_ZXd"
      },
      "execution_count": null,
      "outputs": []
    },
    {
      "cell_type": "code",
      "source": [],
      "metadata": {
        "id": "J_Cvq5VUKGup"
      },
      "execution_count": null,
      "outputs": []
    },
    {
      "cell_type": "markdown",
      "source": [
        "# Reserved words in python\n",
        "1. Reserved words in python : We should not use reserved words variable name\n",
        "2. python doesnt restrict the user use Reserved words\n",
        "3. refer python documents for know reserved word "
      ],
      "metadata": {
        "id": "j7SAopqDKcTi"
      }
    },
    {
      "cell_type": "markdown",
      "source": [
        "#Multi assignment of variables"
      ],
      "metadata": {
        "id": "DFt8ibpiMcXn"
      }
    },
    {
      "cell_type": "code",
      "source": [
        "a,b,c = 10,20,\"Raju\""
      ],
      "metadata": {
        "id": "WsEPhVAqLyZ_"
      },
      "execution_count": null,
      "outputs": []
    },
    {
      "cell_type": "code",
      "source": [
        "type(b)"
      ],
      "metadata": {
        "colab": {
          "base_uri": "https://localhost:8080/"
        },
        "id": "UcVM5_1CMxng",
        "outputId": "a8cfc181-4c7a-40fe-89f4-c1d308b45fff"
      },
      "execution_count": null,
      "outputs": [
        {
          "output_type": "execute_result",
          "data": {
            "text/plain": [
              "int"
            ]
          },
          "metadata": {},
          "execution_count": 22
        }
      ]
    },
    {
      "cell_type": "code",
      "source": [
        "type(c)"
      ],
      "metadata": {
        "colab": {
          "base_uri": "https://localhost:8080/"
        },
        "id": "KnO-E4ClMx03",
        "outputId": "60bc97e5-62d2-4f29-c17e-2abcd6dc0409"
      },
      "execution_count": null,
      "outputs": [
        {
          "output_type": "execute_result",
          "data": {
            "text/plain": [
              "str"
            ]
          },
          "metadata": {},
          "execution_count": 23
        }
      ]
    },
    {
      "cell_type": "markdown",
      "source": [
        "# User input"
      ],
      "metadata": {
        "id": "M7WJffMYO_yD"
      }
    },
    {
      "cell_type": "code",
      "source": [
        "x = input(\"Enter your name: \")\n",
        "print(f\"you have enterd:{x}\")"
      ],
      "metadata": {
        "colab": {
          "base_uri": "https://localhost:8080/"
        },
        "id": "Lu9EvjdAMx7N",
        "outputId": "623e6b74-42ff-462d-a77b-d15c13d73fe1"
      },
      "execution_count": null,
      "outputs": [
        {
          "output_type": "stream",
          "name": "stdout",
          "text": [
            "Enter your name: 1\n",
            "you have enterd:1\n"
          ]
        }
      ]
    },
    {
      "cell_type": "code",
      "source": [
        "a = int(input(\"Enter value a: \"))\n",
        "b = int(input(\"Enter value b: \"))\n",
        "print(f\"sum of a and b is: {a+b}\")"
      ],
      "metadata": {
        "colab": {
          "base_uri": "https://localhost:8080/"
        },
        "id": "rGNj91oOMx_W",
        "outputId": "c48f7cac-a25b-4e44-d8f6-a425fe15a298"
      },
      "execution_count": null,
      "outputs": [
        {
          "output_type": "stream",
          "name": "stdout",
          "text": [
            "Enter value a: 1\n",
            "Enter value b: 2\n",
            "sum of a and b is: 3\n"
          ]
        }
      ]
    },
    {
      "cell_type": "markdown",
      "source": [
        "#type casting/type conversion"
      ],
      "metadata": {
        "id": "2aWa9gHDMaP_"
      }
    },
    {
      "cell_type": "code",
      "source": [
        "#string to integer\n",
        "a = \"12\"\n",
        "print(type(a))\n",
        "a = int(a)\n",
        "print(type(a))"
      ],
      "metadata": {
        "colab": {
          "base_uri": "https://localhost:8080/"
        },
        "id": "KW02sHxoSTON",
        "outputId": "f1fabd7b-3ca0-498a-d831-a70991039411"
      },
      "execution_count": null,
      "outputs": [
        {
          "output_type": "stream",
          "name": "stdout",
          "text": [
            "<class 'str'>\n",
            "<class 'int'>\n"
          ]
        }
      ]
    },
    {
      "cell_type": "code",
      "source": [
        "#float to integer\n",
        "a = 12.2\n",
        "print(type(a))\n",
        "a = int(a)\n",
        "print(type(a))"
      ],
      "metadata": {
        "colab": {
          "base_uri": "https://localhost:8080/"
        },
        "id": "NZfRE2r1STa4",
        "outputId": "c034e6f2-029c-4fe4-d4b9-a1a755fc6f79"
      },
      "execution_count": null,
      "outputs": [
        {
          "output_type": "stream",
          "name": "stdout",
          "text": [
            "<class 'float'>\n",
            "<class 'int'>\n"
          ]
        }
      ]
    },
    {
      "cell_type": "code",
      "source": [
        "#ineger to boolean\n",
        "a = 12\n",
        "print(type(a))\n",
        "a = bool(a)\n",
        "print(type(a))\n",
        "print(a)"
      ],
      "metadata": {
        "colab": {
          "base_uri": "https://localhost:8080/"
        },
        "id": "R5NYSRuTSTtr",
        "outputId": "4c6c180d-70cd-4848-c328-52d8f55e7fb3"
      },
      "execution_count": null,
      "outputs": [
        {
          "output_type": "stream",
          "name": "stdout",
          "text": [
            "<class 'int'>\n",
            "<class 'bool'>\n",
            "True\n"
          ]
        }
      ]
    },
    {
      "cell_type": "code",
      "source": [
        "a = 0\n",
        "print(type(a))\n",
        "a = bool(a)\n",
        "print(type(a))\n",
        "print(a)"
      ],
      "metadata": {
        "colab": {
          "base_uri": "https://localhost:8080/"
        },
        "id": "XEfEBH8xTuUo",
        "outputId": "fcbc52a6-beea-408d-8557-0c5aa01769d4"
      },
      "execution_count": null,
      "outputs": [
        {
          "output_type": "stream",
          "name": "stdout",
          "text": [
            "<class 'int'>\n",
            "<class 'bool'>\n",
            "False\n"
          ]
        }
      ]
    },
    {
      "cell_type": "code",
      "source": [],
      "metadata": {
        "id": "FyAzHapRTuX8"
      },
      "execution_count": null,
      "outputs": []
    },
    {
      "cell_type": "markdown",
      "source": [
        "Date:01/10/2022"
      ],
      "metadata": {
        "id": "pATIriju7_as"
      }
    },
    {
      "cell_type": "markdown",
      "source": [
        "Agenda\n",
        "0. Glimpse of conditional statments\n",
        "\n",
        "1. operators   \n",
        "  *   Logical\n",
        "  *   Equality\n",
        "  *   Compaarision\n",
        "  *   Arthimatic\n",
        "  *   Bitwise\n",
        "  *   Operators for set and dictionary\n",
        "\n",
        "2.   String Methods \n",
        "\n",
        "3.  Control Flow Statement\n",
        "\n",
        "\n",
        "\n",
        "\n",
        "\n",
        "\n",
        "\n",
        "\n",
        "\n",
        " \n"
      ],
      "metadata": {
        "id": "TbdsGOjv8agS"
      }
    },
    {
      "cell_type": "markdown",
      "source": [
        "Conditional statment(IF **ELSE**) "
      ],
      "metadata": {
        "id": "3hCdlWDF_JIB"
      }
    },
    {
      "cell_type": "code",
      "source": [
        "if condition:\n",
        "   print(\"Excute this statment\")\n",
        "else:\n",
        "   print(\"Excute this statment\")\n",
        "  "
      ],
      "metadata": {
        "id": "oUh5A3Z5_iwP"
      },
      "execution_count": null,
      "outputs": []
    },
    {
      "cell_type": "markdown",
      "source": [
        "Use of Indentation:"
      ],
      "metadata": {
        "id": "6vBIvVmLAEEA"
      }
    },
    {
      "cell_type": "code",
      "source": [
        "raining = True\n",
        "if raining:\n",
        "print(\"lets do WFH\")\n",
        "else :\n",
        "    print(\"come to office\")"
      ],
      "metadata": {
        "colab": {
          "base_uri": "https://localhost:8080/",
          "height": 130
        },
        "id": "on7WDkxmASPr",
        "outputId": "64576098-2936-419f-fc9d-0c672e51657d"
      },
      "execution_count": 3,
      "outputs": [
        {
          "output_type": "error",
          "ename": "IndentationError",
          "evalue": "ignored",
          "traceback": [
            "\u001b[0;36m  File \u001b[0;32m\"<ipython-input-3-529cce90a99b>\"\u001b[0;36m, line \u001b[0;32m3\u001b[0m\n\u001b[0;31m    print(\"lets do WFH\")\u001b[0m\n\u001b[0m        ^\u001b[0m\n\u001b[0;31mIndentationError\u001b[0m\u001b[0;31m:\u001b[0m expected an indented block\n"
          ]
        }
      ]
    },
    {
      "cell_type": "code",
      "source": [
        "raining = True\n",
        "if raining:\n",
        "  print(\"since its raining\")\n",
        "  print(\"lets do WFH\")\n",
        "else :\n",
        "    print(\"since its  not raining\")\n",
        "    print(\"come to office\")"
      ],
      "metadata": {
        "colab": {
          "base_uri": "https://localhost:8080/"
        },
        "id": "C2qxh0Y9AZk7",
        "outputId": "35db7387-3879-43d5-d922-c42a0c058c07"
      },
      "execution_count": 5,
      "outputs": [
        {
          "output_type": "stream",
          "name": "stdout",
          "text": [
            "since its raining\n",
            "lets do WFH\n"
          ]
        }
      ]
    },
    {
      "cell_type": "code",
      "source": [
        "raining = True\n",
        "if raining:\n",
        "  print(\"lets do WFH\")\n",
        "else :\n",
        "    print(\"come to office\")"
      ],
      "metadata": {
        "id": "CYDB52b-Tuim",
        "colab": {
          "base_uri": "https://localhost:8080/"
        },
        "outputId": "bdc41e43-859e-402c-fbbb-a9e9d4246edc"
      },
      "execution_count": 2,
      "outputs": [
        {
          "output_type": "stream",
          "name": "stdout",
          "text": [
            "lets do WFH\n"
          ]
        }
      ]
    },
    {
      "cell_type": "code",
      "source": [],
      "metadata": {
        "id": "hAkDrvGW_hcW"
      },
      "execution_count": null,
      "outputs": []
    },
    {
      "cell_type": "markdown",
      "source": [
        "if class started let's concentrate else revise the previos class "
      ],
      "metadata": {
        "id": "8_69fvyLCQ-5"
      }
    },
    {
      "cell_type": "code",
      "source": [
        "class_started = True\n",
        "if class_started:\n",
        "  print(\"Concentrate\")\n",
        "else :\n",
        "  print(\"lets revise\")"
      ],
      "metadata": {
        "colab": {
          "base_uri": "https://localhost:8080/"
        },
        "id": "SuvpGKSb-buC",
        "outputId": "7145c014-208d-458d-fdbe-3e832a0c20c8"
      },
      "execution_count": 8,
      "outputs": [
        {
          "output_type": "stream",
          "name": "stdout",
          "text": [
            "Concentrate\n"
          ]
        }
      ]
    },
    {
      "cell_type": "code",
      "source": [],
      "metadata": {
        "id": "CzKBL4WgDCe8"
      },
      "execution_count": null,
      "outputs": []
    },
    {
      "cell_type": "code",
      "source": [
        "class_started = False\n",
        "if not class_started:\n",
        "  print(\"since class is not started\")\n",
        "  print(\"lets revised \")\n",
        "else:\n",
        "  print(\"since class is started\")\n",
        "  print(\"lets concentrate \")\n",
        "\n"
      ],
      "metadata": {
        "colab": {
          "base_uri": "https://localhost:8080/"
        },
        "id": "Ty054nUTDV17",
        "outputId": "927fc239-474d-43fd-f21b-bcf3375ed37b"
      },
      "execution_count": 9,
      "outputs": [
        {
          "output_type": "stream",
          "name": "stdout",
          "text": [
            "since class is not started\n",
            "lets revised \n"
          ]
        }
      ]
    },
    {
      "cell_type": "code",
      "source": [],
      "metadata": {
        "id": "ZXhBFP99EHIR"
      },
      "execution_count": null,
      "outputs": []
    },
    {
      "cell_type": "markdown",
      "source": [
        "## and - conditional AND"
      ],
      "metadata": {
        "id": "f1uyZagvEiA6"
      }
    },
    {
      "cell_type": "markdown",
      "source": [
        "vegetable| salt |dish\n",
        "\n",
        "vegetable salt dish\n",
        "F  |F | F\n",
        "T  F  F\n",
        "F T  F\n",
        "T T T\n",
        "\n",
        "\n"
      ],
      "metadata": {
        "id": "GiXAf3SWEvLj"
      }
    },
    {
      "cell_type": "code",
      "source": [
        "vig_pre = True\n",
        "salt_pre = True\n",
        "\n",
        "if vig_pre and salt_pre:\n",
        "    print(\"Its god dish\")\n",
        "else:\n",
        "    print(\"its bad dish\")\n"
      ],
      "metadata": {
        "colab": {
          "base_uri": "https://localhost:8080/"
        },
        "id": "xC2o2P1-GCO0",
        "outputId": "0c9ec29a-da10-4f99-884f-7b6bdb4d40c4"
      },
      "execution_count": 10,
      "outputs": [
        {
          "output_type": "stream",
          "name": "stdout",
          "text": [
            "Its god dish\n"
          ]
        }
      ]
    },
    {
      "cell_type": "markdown",
      "source": [
        "## or conditional OR\n",
        "if i have to travel 100 kms in day i can use car or bike\n",
        "\n",
        "if i have car or bike then i can travel 100 kms in a day\n",
        "\n"
      ],
      "metadata": {
        "id": "ZSvSxRSdG2C2"
      }
    },
    {
      "cell_type": "code",
      "source": [
        "car = False\n",
        "bike = False\n",
        "\n",
        "if car or bike:\n",
        "    print(\"i can travel 100 kms\")\n",
        "else:\n",
        "    print(\"i need to buy\")"
      ],
      "metadata": {
        "colab": {
          "base_uri": "https://localhost:8080/"
        },
        "id": "l8hxzvAdG7Hx",
        "outputId": "f4dec095-8ea8-43ef-98b7-d4802e5f80c7"
      },
      "execution_count": 11,
      "outputs": [
        {
          "output_type": "stream",
          "name": "stdout",
          "text": [
            "i need to buy\n"
          ]
        }
      ]
    },
    {
      "cell_type": "code",
      "source": [
        "car = False\n",
        "bike = True\n",
        "\n",
        "if car or bike:\n",
        "    print(\"i can travel 100 kms\")\n",
        "else:\n",
        "    print(\"i need to buy\")"
      ],
      "metadata": {
        "colab": {
          "base_uri": "https://localhost:8080/"
        },
        "id": "G4yPT4ohH33Z",
        "outputId": "d4966435-98f6-4d86-a430-9f22d9bfdd84"
      },
      "execution_count": 12,
      "outputs": [
        {
          "output_type": "stream",
          "name": "stdout",
          "text": [
            "i can travel 100 kms\n"
          ]
        }
      ]
    },
    {
      "cell_type": "code",
      "source": [
        "car = True\n",
        "bike = True\n",
        "\n",
        "if car or bike:\n",
        "    print(\"i can travel 100 kms\")\n",
        "else:\n",
        "    print(\"i need to buy\")"
      ],
      "metadata": {
        "colab": {
          "base_uri": "https://localhost:8080/"
        },
        "id": "yHGauk7SH-0o",
        "outputId": "31edd9ef-ae1e-42c6-c0f4-ad59ca2b85a5"
      },
      "execution_count": 13,
      "outputs": [
        {
          "output_type": "stream",
          "name": "stdout",
          "text": [
            "i can travel 100 kms\n"
          ]
        }
      ]
    },
    {
      "cell_type": "markdown",
      "source": [
        "## Conclusion:\n",
        "1. use AND operator when you want all the condition to be true\n",
        "\n",
        "2. use OR operator if  anyone of the condition you want to be true\n"
      ],
      "metadata": {
        "id": "ULI_DCrlIdbC"
      }
    },
    {
      "cell_type": "code",
      "source": [
        "from IPython.core.prefilter import AssignmentChecker\n",
        "attendane = 75\n",
        "Assignment_submited= 75\n",
        "\n",
        "print(attendane >= 75)\n",
        "print(Assignment_submited>= 75)\n",
        "\n",
        "if attendane >= 75 and Assignment_submited >= 75:\n",
        "    print(\"elgibal for exam\")\n",
        "else:\n",
        "    print(\"not elgibal for exam\")"
      ],
      "metadata": {
        "colab": {
          "base_uri": "https://localhost:8080/"
        },
        "id": "iYHM3tCfIHbQ",
        "outputId": "78d59767-ad50-4fbe-bbb9-8783a130004b"
      },
      "execution_count": 15,
      "outputs": [
        {
          "output_type": "stream",
          "name": "stdout",
          "text": [
            "True\n",
            "True\n",
            "elgibal for exam\n"
          ]
        }
      ]
    },
    {
      "cell_type": "code",
      "source": [
        "attendane = 75\n",
        "Assignment_submited= 70\n",
        "\n",
        "print(attendane >= 75)\n",
        "print(Assignment_submited>= 75)\n",
        "\n",
        "if attendane >= 75 and Assignment_submited >= 75:\n",
        "    print(\"elgibal for exam\")\n",
        "else:\n",
        "    print(\"not elgibal for exam\")"
      ],
      "metadata": {
        "colab": {
          "base_uri": "https://localhost:8080/"
        },
        "id": "Npt7s4cpLEOW",
        "outputId": "23331ee7-ccc8-4a51-e457-5d3fe05eba79"
      },
      "execution_count": 16,
      "outputs": [
        {
          "output_type": "stream",
          "name": "stdout",
          "text": [
            "True\n",
            "False\n",
            "not elgibal for exam\n"
          ]
        }
      ]
    },
    {
      "cell_type": "code",
      "source": [
        "attendane = 75\n",
        "Assignment_submited= 75\n",
        "\n",
        "print(attendane >= 75)\n",
        "print(Assignment_submited>= 75)\n",
        "\n",
        "if attendane >= 75 and Assignment_submited >= 75:\n",
        "    print(\"elgibal for exam\")\n",
        "else:\n",
        "    print(\"not elgibal for exam\")"
      ],
      "metadata": {
        "colab": {
          "base_uri": "https://localhost:8080/"
        },
        "id": "JfA44PzaLF_K",
        "outputId": "7d2fd8dc-3151-4270-b622-408a53777a7f"
      },
      "execution_count": 17,
      "outputs": [
        {
          "output_type": "stream",
          "name": "stdout",
          "text": [
            "True\n",
            "True\n",
            "elgibal for exam\n"
          ]
        }
      ]
    },
    {
      "cell_type": "markdown",
      "source": [
        "## and or together \n",
        "attendance | assignment |extra activity"
      ],
      "metadata": {
        "id": "dQB2PqyuPZT9"
      }
    },
    {
      "cell_type": "code",
      "source": [
        "from pickle import TRUE\n",
        "attendane = 75\n",
        "Assignment_submited= 70\n",
        "sports_player = True\n",
        "\n",
        "print(attendane >= 75)\n",
        "print(Assignment_submited>= 75)\n",
        "\n",
        "if attendane >= 75 and Assignment_submited >= 75 or sports_player:\n",
        "    print(\"elgibal for exam\")\n",
        "else:\n",
        "    print(\"not elgibal for exam\")"
      ],
      "metadata": {
        "colab": {
          "base_uri": "https://localhost:8080/"
        },
        "id": "_Vfc-rdlPRY-",
        "outputId": "37dbecdb-0f1f-4d22-bff9-d3da8d087879"
      },
      "execution_count": 21,
      "outputs": [
        {
          "output_type": "stream",
          "name": "stdout",
          "text": [
            "True\n",
            "False\n",
            "elgibal for exam\n"
          ]
        }
      ]
    },
    {
      "cell_type": "markdown",
      "source": [
        "## Equqlity operators:\n",
        "orerator|uses|Meaning\n",
        "-|-|-\n",
        "is | a is b  => | return true if A and B points to the same object\n",
        "is not | a is not b |return True if a and b do not points to the same object \n",
        "== | a == b | a is equal to b\n",
        "!= | a!=b | a is not equal to b\n",
        "\n",
        "when using 'is' then we are comparing memory location\n",
        "when using 'is not'then we are comparing memory location\n",
        "== and != is only checking variable value"
      ],
      "metadata": {
        "id": "D5uR6kPeStzb"
      }
    },
    {
      "cell_type": "code",
      "source": [
        "A = 1\n",
        "B  = 1\n",
        "if A is B:\n",
        "    print(\"A and B are same\")\n",
        "else :\n",
        "    print(\" A ans b are not same\")"
      ],
      "metadata": {
        "colab": {
          "base_uri": "https://localhost:8080/"
        },
        "id": "HmQqHI43PC2s",
        "outputId": "914cd435-f4d2-457b-a67c-5ed4f68691fc"
      },
      "execution_count": 23,
      "outputs": [
        {
          "output_type": "stream",
          "name": "stdout",
          "text": [
            "A and B are same\n"
          ]
        }
      ]
    },
    {
      "cell_type": "code",
      "source": [
        "A = 1\n",
        "B  = 2\n",
        "if A is not B:\n",
        "    print(\"A and B are same\")\n",
        "else :\n",
        "    print(\" A and b are not same\")"
      ],
      "metadata": {
        "colab": {
          "base_uri": "https://localhost:8080/"
        },
        "id": "0KteRZ-eVMJU",
        "outputId": "941522b2-3899-478d-e411-24b1965a4d71"
      },
      "execution_count": 28,
      "outputs": [
        {
          "output_type": "stream",
          "name": "stdout",
          "text": [
            "A and B are same\n"
          ]
        }
      ]
    },
    {
      "cell_type": "code",
      "source": [
        "A = 1\n",
        "B  = 1\n",
        "if A == B:\n",
        "    print(\"A and B are same\")\n",
        "else :\n",
        "    print(\" A ans b are not same\")"
      ],
      "metadata": {
        "colab": {
          "base_uri": "https://localhost:8080/"
        },
        "id": "offG4ENzVVqQ",
        "outputId": "00274365-9fd8-4bdc-f131-57da94beb652"
      },
      "execution_count": 26,
      "outputs": [
        {
          "output_type": "stream",
          "name": "stdout",
          "text": [
            "A and B are same\n"
          ]
        }
      ]
    },
    {
      "cell_type": "code",
      "source": [
        "A = 1\n",
        "B  = 2\n",
        "if A == B:\n",
        "    print(\"A and B are same\")\n",
        "else :\n",
        "    print(\" A ans b are not same\")"
      ],
      "metadata": {
        "colab": {
          "base_uri": "https://localhost:8080/"
        },
        "id": "N2lnwUqhVoG-",
        "outputId": "a150eb63-2600-4f8a-8c2f-d3490d815151"
      },
      "execution_count": 27,
      "outputs": [
        {
          "output_type": "stream",
          "name": "stdout",
          "text": [
            " A ans b are not same\n"
          ]
        }
      ]
    },
    {
      "cell_type": "code",
      "source": [
        "A = \"raju\"\n",
        "B = \"raju\"\n",
        "A is B"
      ],
      "metadata": {
        "colab": {
          "base_uri": "https://localhost:8080/"
        },
        "id": "3AVjQPI6WgeB",
        "outputId": "187009cc-62b0-4597-df50-5cd233a77b01"
      },
      "execution_count": 30,
      "outputs": [
        {
          "output_type": "execute_result",
          "data": {
            "text/plain": [
              "True"
            ]
          },
          "metadata": {},
          "execution_count": 30
        }
      ]
    },
    {
      "cell_type": "code",
      "source": [
        "A = [\"Raju\",\"abc\"]\n",
        "B = [\"Raju\",\"abc\"]\n",
        "A is B"
      ],
      "metadata": {
        "colab": {
          "base_uri": "https://localhost:8080/"
        },
        "id": "YVkiPX_pVsyT",
        "outputId": "7b78d340-90ac-4344-ffaf-ec6308e29d21"
      },
      "execution_count": 29,
      "outputs": [
        {
          "output_type": "execute_result",
          "data": {
            "text/plain": [
              "False"
            ]
          },
          "metadata": {},
          "execution_count": 29
        }
      ]
    },
    {
      "cell_type": "code",
      "source": [
        "id(A)"
      ],
      "metadata": {
        "colab": {
          "base_uri": "https://localhost:8080/"
        },
        "id": "AjJPwIOuWaSp",
        "outputId": "5289d943-f699-4eaa-9ddd-e339e428fa13"
      },
      "execution_count": 31,
      "outputs": [
        {
          "output_type": "execute_result",
          "data": {
            "text/plain": [
              "140591004525616"
            ]
          },
          "metadata": {},
          "execution_count": 31
        }
      ]
    },
    {
      "cell_type": "code",
      "source": [
        "id(B)"
      ],
      "metadata": {
        "colab": {
          "base_uri": "https://localhost:8080/"
        },
        "id": "2i-I5Rs7WrVU",
        "outputId": "d57dc921-457e-4094-e699-871af9050efe"
      },
      "execution_count": 32,
      "outputs": [
        {
          "output_type": "execute_result",
          "data": {
            "text/plain": [
              "140591004525616"
            ]
          },
          "metadata": {},
          "execution_count": 32
        }
      ]
    },
    {
      "cell_type": "code",
      "source": [
        "A == B"
      ],
      "metadata": {
        "colab": {
          "base_uri": "https://localhost:8080/"
        },
        "id": "nFLM6PfqWt9r",
        "outputId": "2c502c35-a0ae-4c9e-a597-9ad315acfd91"
      },
      "execution_count": 33,
      "outputs": [
        {
          "output_type": "execute_result",
          "data": {
            "text/plain": [
              "True"
            ]
          },
          "metadata": {},
          "execution_count": 33
        }
      ]
    },
    {
      "cell_type": "markdown",
      "source": [
        "### Comparision \n",
        "operation|meaning\n",
        "-|-\n",
        "<| A<B\n",
        "<=|A<=B\n",
        ">|A>B\n",
        ">=|A>=B"
      ],
      "metadata": {
        "id": "fyYvnB02atew"
      }
    },
    {
      "cell_type": "code",
      "source": [
        "attendane = 75\n",
        "Assignment_submited= 75\n",
        "\n",
        "print(attendane >= 75)\n",
        "print(Assignment_submited>= 75)\n",
        "\n",
        "if attendane >= 75 and Assignment_submited >= 75:\n",
        "    print(\"elgibal for exam\")\n",
        "else:\n",
        "    print(\"not elgibal for exam\")"
      ],
      "metadata": {
        "colab": {
          "base_uri": "https://localhost:8080/"
        },
        "id": "dZg7-Pt1XeBe",
        "outputId": "1541a64a-8874-44a2-8862-937eba5ee40f"
      },
      "execution_count": 35,
      "outputs": [
        {
          "output_type": "stream",
          "name": "stdout",
          "text": [
            "True\n",
            "True\n",
            "elgibal for exam\n"
          ]
        }
      ]
    },
    {
      "cell_type": "code",
      "source": [],
      "metadata": {
        "id": "TIthu_-vbjSx"
      },
      "execution_count": null,
      "outputs": []
    }
  ]
}